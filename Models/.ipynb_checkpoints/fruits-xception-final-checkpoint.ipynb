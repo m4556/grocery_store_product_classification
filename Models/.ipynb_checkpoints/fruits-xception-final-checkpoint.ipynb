{
 "cells": [
  {
   "cell_type": "code",
   "execution_count": null,
   "id": "91c77b05",
   "metadata": {
    "_cell_guid": "b1076dfc-b9ad-4769-8c92-a6c4dae69d19",
    "_uuid": "8f2839f25d086af736a60e9eeb907d3b93b6e0e5",
    "execution": {
     "iopub.execute_input": "2022-01-05T13:57:43.982868Z",
     "iopub.status.busy": "2022-01-05T13:57:43.981354Z",
     "iopub.status.idle": "2022-01-05T13:57:49.877255Z",
     "shell.execute_reply": "2022-01-05T13:57:49.876499Z",
     "shell.execute_reply.started": "2022-01-05T13:37:20.646071Z"
    },
    "papermill": {
     "duration": 5.91481,
     "end_time": "2022-01-05T13:57:49.877419",
     "exception": false,
     "start_time": "2022-01-05T13:57:43.962609",
     "status": "completed"
    },
    "tags": []
   },
   "outputs": [],
   "source": [
    "from __future__ import absolute_import, division, print_function\n",
    "import numpy as np\n",
    "import collections\n",
    "import math\n",
    "import os\n",
    "import random\n",
    "from six.moves import urllib\n",
    "import io\n",
    "import shutil\n",
    "import matplotlib.pyplot as plt\n",
    "import seaborn as sns\n",
    "from IPython.display import clear_output, Image, display, HTML\n",
    "import tensorflow as tf\n",
    "import tensorflow_hub as hub\n",
    "import sklearn.metrics as sk_metrics\n",
    "import time\n",
    "from tensorflow.python.keras.preprocessing.image import ImageDataGenerator\n",
    "from tensorflow.keras import optimizers, layers, models\n",
    "from tensorflow.keras.preprocessing import image\n",
    "from tensorflow.keras import regularizers\n",
    "from tensorflow.keras.models import Model, Sequential\n",
    "from tensorflow.keras.layers import Dense, GlobalAveragePooling2D, BatchNormalization, Dropout, Flatten\n",
    "from tensorflow.keras import backend as K\n",
    "from keras.utils.vis_utils import plot_model\n",
    "from keras.callbacks import EarlyStopping, ModelCheckpoint\n",
    "from sklearn.metrics import confusion_matrix, classification_report\n",
    "from keras.applications import xception"
   ]
  },
  {
   "cell_type": "code",
   "execution_count": null,
   "id": "053a0fb8",
   "metadata": {
    "execution": {
     "iopub.execute_input": "2022-01-05T13:57:49.911073Z",
     "iopub.status.busy": "2022-01-05T13:57:49.909421Z",
     "iopub.status.idle": "2022-01-05T13:57:49.911776Z",
     "shell.execute_reply": "2022-01-05T13:57:49.912265Z",
     "shell.execute_reply.started": "2022-01-05T13:37:20.660498Z"
    },
    "papermill": {
     "duration": 0.020597,
     "end_time": "2022-01-05T13:57:49.912411",
     "exception": false,
     "start_time": "2022-01-05T13:57:49.891814",
     "status": "completed"
    },
    "tags": []
   },
   "outputs": [],
   "source": [
    "train_path = '../input/datasetfinal/dataset70-10-20/train/Fruit'\n",
    "validation_path = '../input/datasetfinal/dataset70-10-20/val/Fruit'\n",
    "test_path = '../input/datasetfinal/dataset70-10-20/test/Fruit'"
   ]
  },
  {
   "cell_type": "code",
   "execution_count": null,
   "id": "6ed81408",
   "metadata": {
    "execution": {
     "iopub.execute_input": "2022-01-05T13:57:49.944398Z",
     "iopub.status.busy": "2022-01-05T13:57:49.943668Z",
     "iopub.status.idle": "2022-01-05T13:57:49.999953Z",
     "shell.execute_reply": "2022-01-05T13:57:50.000678Z",
     "shell.execute_reply.started": "2022-01-05T13:37:20.667291Z"
    },
    "papermill": {
     "duration": 0.074951,
     "end_time": "2022-01-05T13:57:50.000822",
     "exception": false,
     "start_time": "2022-01-05T13:57:49.925871",
     "status": "completed"
    },
    "tags": []
   },
   "outputs": [],
   "source": [
    "fruits_classes=[]\n",
    "for root, subdirectories, files in os.walk(train_path):\n",
    "    for subdirectory in subdirectories:\n",
    "        fruits_classes.append(subdirectory)\n",
    "print(len(fruits_classes))"
   ]
  },
  {
   "cell_type": "code",
   "execution_count": null,
   "id": "4e8a0ccf",
   "metadata": {
    "execution": {
     "iopub.execute_input": "2022-01-05T13:57:50.035330Z",
     "iopub.status.busy": "2022-01-05T13:57:50.034463Z",
     "iopub.status.idle": "2022-01-05T13:57:50.346745Z",
     "shell.execute_reply": "2022-01-05T13:57:50.345940Z",
     "shell.execute_reply.started": "2022-01-05T13:37:20.691940Z"
    },
    "papermill": {
     "duration": 0.331343,
     "end_time": "2022-01-05T13:57:50.346877",
     "exception": false,
     "start_time": "2022-01-05T13:57:50.015534",
     "status": "completed"
    },
    "tags": []
   },
   "outputs": [],
   "source": [
    "train_batches  = ImageDataGenerator().flow_from_directory(\n",
    "    train_path, target_size=(224, 224), classes = fruits_classes, batch_size = 50)\n",
    "\n",
    "validation_batches  = ImageDataGenerator().flow_from_directory(\n",
    "    validation_path, target_size=(224, 224), classes = fruits_classes, batch_size = 10)\n",
    "\n",
    "test_batches  = ImageDataGenerator().flow_from_directory(\n",
    "    test_path, target_size=(224, 224), classes = fruits_classes, batch_size = 10)"
   ]
  },
  {
   "cell_type": "markdown",
   "id": "f28fdf24",
   "metadata": {
    "papermill": {
     "duration": 0.014332,
     "end_time": "2022-01-05T13:57:50.375917",
     "exception": false,
     "start_time": "2022-01-05T13:57:50.361585",
     "status": "completed"
    },
    "tags": []
   },
   "source": [
    "## Data Augmentation"
   ]
  },
  {
   "cell_type": "code",
   "execution_count": null,
   "id": "290fb43f",
   "metadata": {
    "execution": {
     "iopub.execute_input": "2022-01-05T13:57:50.408253Z",
     "iopub.status.busy": "2022-01-05T13:57:50.407425Z",
     "iopub.status.idle": "2022-01-05T13:57:50.726503Z",
     "shell.execute_reply": "2022-01-05T13:57:50.726893Z",
     "shell.execute_reply.started": "2022-01-05T13:37:21.009527Z"
    },
    "papermill": {
     "duration": 0.336514,
     "end_time": "2022-01-05T13:57:50.727041",
     "exception": false,
     "start_time": "2022-01-05T13:57:50.390527",
     "status": "completed"
    },
    "tags": []
   },
   "outputs": [],
   "source": [
    "train_datagen_aug = ImageDataGenerator(\n",
    "        rotation_range=40,\n",
    "        width_shift_range=0.2,\n",
    "        height_shift_range=0.2,\n",
    "        fill_mode='nearest',\n",
    "        rescale=1./255,\n",
    "        shear_range=0.2,\n",
    "        zoom_range=0.2,\n",
    "        horizontal_flip=True)\n",
    "\n",
    "train_generator_aug = train_datagen_aug.flow_from_directory(\n",
    "        train_path,\n",
    "        target_size=(224, 224),\n",
    "        batch_size=25,\n",
    "        class_mode='categorical')\n",
    "\n",
    "test_datagen = ImageDataGenerator(rescale=1./255)\n",
    "\n",
    "test_generator = test_datagen.flow_from_directory(\n",
    "        test_path,\n",
    "        target_size=(224, 224),\n",
    "        batch_size=1,\n",
    "        shuffle = False,\n",
    "        class_mode='categorical')\n",
    "\n",
    "val_generator = test_datagen.flow_from_directory(\n",
    "        validation_path,\n",
    "        target_size=(224, 224),\n",
    "        batch_size=10,\n",
    "        class_mode='categorical')"
   ]
  },
  {
   "cell_type": "code",
   "execution_count": null,
   "id": "ef541969",
   "metadata": {
    "execution": {
     "iopub.execute_input": "2022-01-05T13:57:50.762466Z",
     "iopub.status.busy": "2022-01-05T13:57:50.761620Z",
     "iopub.status.idle": "2022-01-05T13:57:50.763548Z",
     "shell.execute_reply": "2022-01-05T13:57:50.763970Z",
     "shell.execute_reply.started": "2022-01-05T13:37:21.331298Z"
    },
    "papermill": {
     "duration": 0.022224,
     "end_time": "2022-01-05T13:57:50.764120",
     "exception": false,
     "start_time": "2022-01-05T13:57:50.741896",
     "status": "completed"
    },
    "tags": []
   },
   "outputs": [],
   "source": [
    "train_filenames = train_generator_aug.filenames\n",
    "steps_train = len(train_filenames)/train_generator_aug.batch_size\n",
    "\n",
    "val_filenames = val_generator.filenames\n",
    "steps_val = len(val_filenames)/val_generator.batch_size\n",
    "\n",
    "filenames_test = test_generator.filenames\n",
    "nb_samples_test= len(filenames_test)\n",
    "true_classes = test_generator.classes\n",
    "target_names = fruits_classes"
   ]
  },
  {
   "cell_type": "markdown",
   "id": "87a23b5d",
   "metadata": {
    "papermill": {
     "duration": 0.014394,
     "end_time": "2022-01-05T13:57:50.793709",
     "exception": false,
     "start_time": "2022-01-05T13:57:50.779315",
     "status": "completed"
    },
    "tags": []
   },
   "source": [
    "# Xception"
   ]
  },
  {
   "cell_type": "code",
   "execution_count": null,
   "id": "66b4d42c",
   "metadata": {
    "execution": {
     "iopub.execute_input": "2022-01-05T13:57:50.829737Z",
     "iopub.status.busy": "2022-01-05T13:57:50.829119Z",
     "iopub.status.idle": "2022-01-05T13:57:55.264550Z",
     "shell.execute_reply": "2022-01-05T13:57:55.262981Z",
     "shell.execute_reply.started": "2022-01-05T13:37:21.339604Z"
    },
    "papermill": {
     "duration": 4.45663,
     "end_time": "2022-01-05T13:57:55.264726",
     "exception": false,
     "start_time": "2022-01-05T13:57:50.808096",
     "status": "completed"
    },
    "tags": []
   },
   "outputs": [],
   "source": [
    "model = xception.Xception(weights='imagenet', include_top=False, input_shape=(224, 224, 3),classes=28,pooling='avg')\n",
    "model.summary()"
   ]
  },
  {
   "cell_type": "code",
   "execution_count": null,
   "id": "a1ed3c8c",
   "metadata": {
    "execution": {
     "iopub.execute_input": "2022-01-05T13:57:55.361202Z",
     "iopub.status.busy": "2022-01-05T13:57:55.360229Z",
     "iopub.status.idle": "2022-01-05T13:57:55.362671Z",
     "shell.execute_reply": "2022-01-05T13:57:55.361918Z",
     "shell.execute_reply.started": "2022-01-05T13:37:22.509277Z"
    },
    "papermill": {
     "duration": 0.054388,
     "end_time": "2022-01-05T13:57:55.362828",
     "exception": false,
     "start_time": "2022-01-05T13:57:55.308440",
     "status": "completed"
    },
    "tags": []
   },
   "outputs": [],
   "source": [
    "#plot_model(model, to_file='model_plot.png', show_shapes=True, show_layer_names=True)"
   ]
  },
  {
   "cell_type": "code",
   "execution_count": null,
   "id": "0617c91a",
   "metadata": {
    "execution": {
     "iopub.execute_input": "2022-01-05T13:57:55.449146Z",
     "iopub.status.busy": "2022-01-05T13:57:55.448312Z",
     "iopub.status.idle": "2022-01-05T13:57:55.452824Z",
     "shell.execute_reply": "2022-01-05T13:57:55.453465Z",
     "shell.execute_reply.started": "2022-01-05T13:37:22.517856Z"
    },
    "papermill": {
     "duration": 0.05579,
     "end_time": "2022-01-05T13:57:55.453653",
     "exception": false,
     "start_time": "2022-01-05T13:57:55.397863",
     "status": "completed"
    },
    "tags": []
   },
   "outputs": [],
   "source": [
    "count = 0\n",
    "for layer in model.layers:\n",
    "    count += 1\n",
    "count"
   ]
  },
  {
   "cell_type": "code",
   "execution_count": null,
   "id": "a3b1c9db",
   "metadata": {
    "execution": {
     "iopub.execute_input": "2022-01-05T13:57:55.540154Z",
     "iopub.status.busy": "2022-01-05T13:57:55.538331Z",
     "iopub.status.idle": "2022-01-05T13:57:55.541023Z",
     "shell.execute_reply": "2022-01-05T13:57:55.539207Z",
     "shell.execute_reply.started": "2022-01-05T13:37:22.529720Z"
    },
    "papermill": {
     "duration": 0.052309,
     "end_time": "2022-01-05T13:57:55.541225",
     "exception": false,
     "start_time": "2022-01-05T13:57:55.488916",
     "status": "completed"
    },
    "tags": []
   },
   "outputs": [],
   "source": [
    "for layer in model.layers:\n",
    "    layer.trainable = False\n",
    "for layer in model.layers[-10:]:\n",
    "    layer.trainable = True"
   ]
  },
  {
   "cell_type": "code",
   "execution_count": null,
   "id": "b476364d",
   "metadata": {
    "execution": {
     "iopub.execute_input": "2022-01-05T13:57:55.595060Z",
     "iopub.status.busy": "2022-01-05T13:57:55.594110Z",
     "iopub.status.idle": "2022-01-05T13:57:55.619090Z",
     "shell.execute_reply": "2022-01-05T13:57:55.618515Z",
     "shell.execute_reply.started": "2022-01-05T13:37:22.545031Z"
    },
    "papermill": {
     "duration": 0.050777,
     "end_time": "2022-01-05T13:57:55.619226",
     "exception": false,
     "start_time": "2022-01-05T13:57:55.568449",
     "status": "completed"
    },
    "tags": []
   },
   "outputs": [],
   "source": [
    "x= model.output\n",
    "x= tf.keras.layers.Dropout(.4)(x)\n",
    "output=Dense(28,activation='softmax')(x)\n",
    "fruits_xception= Model(model.input,output)"
   ]
  },
  {
   "cell_type": "code",
   "execution_count": null,
   "id": "8b715db0",
   "metadata": {
    "execution": {
     "iopub.execute_input": "2022-01-05T13:57:55.681581Z",
     "iopub.status.busy": "2022-01-05T13:57:55.680974Z",
     "iopub.status.idle": "2022-01-05T14:17:48.397585Z",
     "shell.execute_reply": "2022-01-05T14:17:48.398370Z",
     "shell.execute_reply.started": "2022-01-05T13:37:22.575143Z"
    },
    "papermill": {
     "duration": 1192.752873,
     "end_time": "2022-01-05T14:17:48.398539",
     "exception": false,
     "start_time": "2022-01-05T13:57:55.645666",
     "status": "completed"
    },
    "tags": []
   },
   "outputs": [],
   "source": [
    "fruits_xception.compile(loss='categorical_crossentropy',\n",
    "              optimizer=optimizers.RMSprop(1e-4),\n",
    "              metrics=['acc'])\n",
    "\n",
    "es = EarlyStopping(monitor='val_accuracy', min_delta=0.01,patience= 3, verbose=1)\n",
    "mc = ModelCheckpoint(\"./fruits_best_xception.h5\", monitor='val_accuracy', verbose=1, save_best_only=True)\n",
    "cb=[es, mc]\n",
    "\n",
    "fit_generator = fruits_xception.fit(train_generator_aug,\n",
    "                                    steps_per_epoch=steps_train,\n",
    "                                    epochs=50,\n",
    "                                    validation_data=val_generator,\n",
    "                                    validation_steps=steps_val,\n",
    "                                    verbose=1,\n",
    "                                    callbacks=cb)"
   ]
  },
  {
   "cell_type": "code",
   "execution_count": null,
   "id": "233b26e8",
   "metadata": {
    "execution": {
     "iopub.execute_input": "2022-01-05T14:17:50.748624Z",
     "iopub.status.busy": "2022-01-05T14:17:50.747776Z",
     "iopub.status.idle": "2022-01-05T14:17:51.131272Z",
     "shell.execute_reply": "2022-01-05T14:17:51.131695Z",
     "shell.execute_reply.started": "2022-01-05T13:57:21.594634Z"
    },
    "papermill": {
     "duration": 1.304885,
     "end_time": "2022-01-05T14:17:51.131840",
     "exception": false,
     "start_time": "2022-01-05T14:17:49.826955",
     "status": "completed"
    },
    "tags": []
   },
   "outputs": [],
   "source": [
    "acc = fit_generator.history['acc']\n",
    "val_acc = fit_generator.history['val_acc']\n",
    "loss = fit_generator.history['loss']\n",
    "val_loss = fit_generator.history['val_loss']\n",
    "\n",
    "epochs = range(len(acc))\n",
    "plt.plot(epochs, acc, 'b', label='Training acc')\n",
    "plt.plot(epochs, val_acc, 'r', label='Validation acc')\n",
    "plt.title('Training and validation accuracy')\n",
    "plt.legend()\n",
    "plt.figure()\n",
    "\n",
    "plt.plot(epochs, loss, 'b', label='Training loss')\n",
    "plt.plot(epochs, val_loss, 'r', label='Validation loss')\n",
    "plt.title('Training and validation loss')\n",
    "plt.legend()\n",
    "plt.show()"
   ]
  },
  {
   "cell_type": "code",
   "execution_count": null,
   "id": "155dde0b",
   "metadata": {
    "execution": {
     "iopub.execute_input": "2022-01-05T14:17:52.981375Z",
     "iopub.status.busy": "2022-01-05T14:17:52.945343Z",
     "iopub.status.idle": "2022-01-05T14:17:53.324306Z",
     "shell.execute_reply": "2022-01-05T14:17:53.323419Z",
     "shell.execute_reply.started": "2022-01-05T13:57:21.600844Z"
    },
    "papermill": {
     "duration": 1.279465,
     "end_time": "2022-01-05T14:17:53.324446",
     "exception": false,
     "start_time": "2022-01-05T14:17:52.044981",
     "status": "completed"
    },
    "tags": []
   },
   "outputs": [],
   "source": [
    "fruits_xception.save('fruits_xception.h5')"
   ]
  },
  {
   "cell_type": "code",
   "execution_count": null,
   "id": "5393c282",
   "metadata": {
    "execution": {
     "iopub.execute_input": "2022-01-05T14:17:55.123176Z",
     "iopub.status.busy": "2022-01-05T14:17:55.122351Z",
     "iopub.status.idle": "2022-01-05T14:18:18.361980Z",
     "shell.execute_reply": "2022-01-05T14:18:18.362565Z",
     "shell.execute_reply.started": "2022-01-05T13:57:21.605361Z"
    },
    "papermill": {
     "duration": 24.137556,
     "end_time": "2022-01-05T14:18:18.362768",
     "exception": false,
     "start_time": "2022-01-05T14:17:54.225212",
     "status": "completed"
    },
    "tags": []
   },
   "outputs": [],
   "source": [
    "converter = tf.lite.TFLiteConverter.from_keras_model(fruits_xception)\n",
    "tflite_model = converter.convert()\n",
    "\n",
    "with open('fruits_xception.tflite', 'wb') as f:\n",
    "    f.write(tflite_model)"
   ]
  },
  {
   "cell_type": "markdown",
   "id": "7e1f2b25",
   "metadata": {
    "papermill": {
     "duration": 0.900285,
     "end_time": "2022-01-05T14:18:20.174194",
     "exception": false,
     "start_time": "2022-01-05T14:18:19.273909",
     "status": "completed"
    },
    "tags": []
   },
   "source": [
    "## Predict"
   ]
  },
  {
   "cell_type": "code",
   "execution_count": null,
   "id": "5c0354b2",
   "metadata": {
    "execution": {
     "iopub.execute_input": "2022-01-05T14:18:22.464859Z",
     "iopub.status.busy": "2022-01-05T14:18:22.464004Z",
     "iopub.status.idle": "2022-01-05T14:18:27.757242Z",
     "shell.execute_reply": "2022-01-05T14:18:27.756480Z",
     "shell.execute_reply.started": "2022-01-05T13:57:21.607253Z"
    },
    "papermill": {
     "duration": 6.19048,
     "end_time": "2022-01-05T14:18:27.757392",
     "exception": false,
     "start_time": "2022-01-05T14:18:21.566912",
     "status": "completed"
    },
    "tags": []
   },
   "outputs": [],
   "source": [
    "fruits_pred= fruits_xception.predict(test_generator, steps = nb_samples_test, verbose=2)\n",
    "fruits_pred= fruits_pred.argmax(axis=1)"
   ]
  },
  {
   "cell_type": "markdown",
   "id": "ee5dd15d",
   "metadata": {
    "papermill": {
     "duration": 1.143602,
     "end_time": "2022-01-05T14:18:29.786462",
     "exception": false,
     "start_time": "2022-01-05T14:18:28.642860",
     "status": "completed"
    },
    "tags": []
   },
   "source": [
    "### Classification Report"
   ]
  },
  {
   "cell_type": "code",
   "execution_count": null,
   "id": "bd403e2d",
   "metadata": {
    "execution": {
     "iopub.execute_input": "2022-01-05T14:18:31.602779Z",
     "iopub.status.busy": "2022-01-05T14:18:31.602084Z",
     "iopub.status.idle": "2022-01-05T14:18:31.612784Z",
     "shell.execute_reply": "2022-01-05T14:18:31.613519Z",
     "shell.execute_reply.started": "2022-01-05T13:57:21.610206Z"
    },
    "papermill": {
     "duration": 0.938593,
     "end_time": "2022-01-05T14:18:31.613767",
     "exception": false,
     "start_time": "2022-01-05T14:18:30.675174",
     "status": "completed"
    },
    "tags": []
   },
   "outputs": [],
   "source": [
    "print(classification_report(true_classes, fruits_pred, target_names=target_names))"
   ]
  }
 ],
 "metadata": {
  "kernelspec": {
   "display_name": "Python 3 (ipykernel)",
   "language": "python",
   "name": "python3"
  },
  "language_info": {
   "codemirror_mode": {
    "name": "ipython",
    "version": 3
   },
   "file_extension": ".py",
   "mimetype": "text/x-python",
   "name": "python",
   "nbconvert_exporter": "python",
   "pygments_lexer": "ipython3",
   "version": "3.8.16"
  },
  "papermill": {
   "default_parameters": {},
   "duration": 1260.237076,
   "end_time": "2022-01-05T14:18:36.095768",
   "environment_variables": {},
   "exception": null,
   "input_path": "__notebook__.ipynb",
   "output_path": "__notebook__.ipynb",
   "parameters": {},
   "start_time": "2022-01-05T13:57:35.858692",
   "version": "2.3.3"
  }
 },
 "nbformat": 4,
 "nbformat_minor": 5
}
