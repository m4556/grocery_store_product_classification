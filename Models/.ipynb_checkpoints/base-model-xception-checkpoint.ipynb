{
 "cells": [
  {
   "cell_type": "code",
   "execution_count": null,
   "id": "0beb02a8",
   "metadata": {
    "execution": {
     "iopub.execute_input": "2022-01-05T08:08:59.981948Z",
     "iopub.status.busy": "2022-01-05T08:08:59.976563Z",
     "iopub.status.idle": "2022-01-05T08:09:06.973357Z",
     "shell.execute_reply": "2022-01-05T08:09:06.972256Z",
     "shell.execute_reply.started": "2022-01-04T17:21:25.977635Z"
    },
    "papermill": {
     "duration": 7.050488,
     "end_time": "2022-01-05T08:09:06.973561",
     "exception": false,
     "start_time": "2022-01-05T08:08:59.923073",
     "status": "completed"
    },
    "tags": []
   },
   "outputs": [],
   "source": [
    "from __future__ import absolute_import, division, print_function\n",
    "import numpy as np\n",
    "import collections\n",
    "import math\n",
    "import os\n",
    "import random\n",
    "from six.moves import urllib\n",
    "import io\n",
    "import shutil\n",
    "import matplotlib.pyplot as plt\n",
    "import seaborn as sns\n",
    "from IPython.display import clear_output, Image, display, HTML\n",
    "import tensorflow as tf\n",
    "import tensorflow_hub as hub\n",
    "import sklearn.metrics as sk_metrics\n",
    "import time\n",
    "from keras.applications import xception\n",
    "from keras.utils.vis_utils import plot_model\n",
    "from tensorflow.python.keras.preprocessing.image import ImageDataGenerator\n",
    "from keras import optimizers, layers, models\n",
    "from keras.applications.inception_v3 import InceptionV3\n",
    "from keras.applications.resnet import preprocess_input, decode_predictions, ResNet50\n",
    "import keras.utils as image\n",
    "from keras import regularizers\n",
    "from keras.models import Model\n",
    "from keras.layers import Dense, GlobalAveragePooling2D, BatchNormalization, Dropout, Flatten\n",
    "from keras.callbacks import EarlyStopping, ModelCheckpoint\n",
    "from keras import backend as K\n",
    "from keras.layers import Dense,Flatten,GlobalAveragePooling2D\n",
    "from tensorflow.keras.optimizers import RMSprop\n",
    "from sklearn.metrics import confusion_matrix, classification_report"
   ]
  },
  {
   "cell_type": "code",
   "execution_count": null,
   "id": "dd5762bd",
   "metadata": {
    "execution": {
     "iopub.execute_input": "2022-01-05T08:09:07.023714Z",
     "iopub.status.busy": "2022-01-05T08:09:07.021533Z",
     "iopub.status.idle": "2022-01-05T08:09:07.026683Z",
     "shell.execute_reply": "2022-01-05T08:09:07.025961Z",
     "shell.execute_reply.started": "2022-01-04T16:34:40.402289Z"
    },
    "papermill": {
     "duration": 0.029904,
     "end_time": "2022-01-05T08:09:07.026840",
     "exception": false,
     "start_time": "2022-01-05T08:09:06.996936",
     "status": "completed"
    },
    "tags": []
   },
   "outputs": [],
   "source": [
    "train_path = '../input/datasetfinal/dataset70-10-20/train'\n",
    "validation_path = '../input/datasetfinal/dataset70-10-20/val'\n",
    "test_path = '../input/datasetfinal/dataset70-10-20/test'\n",
    "classes= ['Fruit', 'Packages', 'Vegetables']"
   ]
  },
  {
   "cell_type": "code",
   "execution_count": null,
   "id": "fa4d5f82",
   "metadata": {
    "execution": {
     "iopub.execute_input": "2022-01-05T08:09:07.075652Z",
     "iopub.status.busy": "2022-01-05T08:09:07.070976Z",
     "iopub.status.idle": "2022-01-05T08:09:08.599969Z",
     "shell.execute_reply": "2022-01-05T08:09:08.599004Z",
     "shell.execute_reply.started": "2022-01-04T16:34:40.409669Z"
    },
    "papermill": {
     "duration": 1.552302,
     "end_time": "2022-01-05T08:09:08.600105",
     "exception": false,
     "start_time": "2022-01-05T08:09:07.047803",
     "status": "completed"
    },
    "tags": []
   },
   "outputs": [],
   "source": [
    "train_batches  = ImageDataGenerator().flow_from_directory(\n",
    "    train_path, target_size=(224,224), classes = classes, batch_size = 50)\n",
    "\n",
    "validation_batches  = ImageDataGenerator().flow_from_directory(\n",
    "    validation_path, target_size=(224,224), classes = classes, batch_size = 10)\n",
    "\n",
    "test_batches  = ImageDataGenerator().flow_from_directory(\n",
    "    test_path, target_size=(224,224), classes = classes, batch_size = 10)"
   ]
  },
  {
   "cell_type": "code",
   "execution_count": null,
   "id": "3b83b366",
   "metadata": {
    "execution": {
     "iopub.execute_input": "2022-01-05T08:09:08.651879Z",
     "iopub.status.busy": "2022-01-05T08:09:08.648464Z",
     "iopub.status.idle": "2022-01-05T08:09:09.034679Z",
     "shell.execute_reply": "2022-01-05T08:09:09.033822Z",
     "shell.execute_reply.started": "2022-01-04T16:34:41.868003Z"
    },
    "papermill": {
     "duration": 0.411881,
     "end_time": "2022-01-05T08:09:09.034891",
     "exception": false,
     "start_time": "2022-01-05T08:09:08.623010",
     "status": "completed"
    },
    "tags": []
   },
   "outputs": [],
   "source": [
    "for data_batch, labels_batch in train_batches:\n",
    "    print('data batch shape:', data_batch.shape)\n",
    "    print('labels batch shape:', labels_batch.shape)\n",
    "    break"
   ]
  },
  {
   "cell_type": "code",
   "execution_count": null,
   "id": "de398848",
   "metadata": {
    "execution": {
     "iopub.execute_input": "2022-01-05T08:09:09.086623Z",
     "iopub.status.busy": "2022-01-05T08:09:09.085840Z",
     "iopub.status.idle": "2022-01-05T08:09:09.399786Z",
     "shell.execute_reply": "2022-01-05T08:09:09.400313Z",
     "shell.execute_reply.started": "2022-01-04T16:34:42.338184Z"
    },
    "papermill": {
     "duration": 0.341845,
     "end_time": "2022-01-05T08:09:09.400500",
     "exception": false,
     "start_time": "2022-01-05T08:09:09.058655",
     "status": "completed"
    },
    "tags": []
   },
   "outputs": [],
   "source": [
    "img_path = '../input/datasetfinal/dataset70-10-20/train/Fruit/Royal-Gala/Royal-Gala_001 (2).jpg' \n",
    "img = image.load_img(img_path, target_size=(224,224))\n",
    "plt.imshow(img)"
   ]
  },
  {
   "cell_type": "code",
   "execution_count": null,
   "id": "be7cc9d5",
   "metadata": {
    "execution": {
     "iopub.execute_input": "2022-01-05T08:09:09.458967Z",
     "iopub.status.busy": "2022-01-05T08:09:09.458284Z",
     "iopub.status.idle": "2022-01-05T08:09:09.744964Z",
     "shell.execute_reply": "2022-01-05T08:09:09.745571Z",
     "shell.execute_reply.started": "2022-01-04T16:34:42.663105Z"
    },
    "papermill": {
     "duration": 0.318981,
     "end_time": "2022-01-05T08:09:09.745801",
     "exception": false,
     "start_time": "2022-01-05T08:09:09.426820",
     "status": "completed"
    },
    "tags": []
   },
   "outputs": [],
   "source": [
    "img_path = '../input/datasetfinal/dataset70-10-20/train/Vegetables/Regular-Tomato/Regular-Tomato_001 (2).jpg' \n",
    "img = image.load_img(img_path, target_size=(224,224))\n",
    "plt.imshow(img)"
   ]
  },
  {
   "cell_type": "code",
   "execution_count": null,
   "id": "3f288168",
   "metadata": {
    "execution": {
     "iopub.execute_input": "2022-01-05T08:09:09.808933Z",
     "iopub.status.busy": "2022-01-05T08:09:09.807964Z",
     "iopub.status.idle": "2022-01-05T08:09:10.093027Z",
     "shell.execute_reply": "2022-01-05T08:09:10.093893Z",
     "shell.execute_reply.started": "2022-01-04T16:34:42.956967Z"
    },
    "papermill": {
     "duration": 0.318625,
     "end_time": "2022-01-05T08:09:10.094157",
     "exception": false,
     "start_time": "2022-01-05T08:09:09.775532",
     "status": "completed"
    },
    "tags": []
   },
   "outputs": [],
   "source": [
    "img_path = '../input/datasetfinal/dataset70-10-20/train/Packages/Alpro-Shelf-Soy-Milk/Alpro-Shelf-Soy-Milk_001 (2).jpg' \n",
    "img = image.load_img(img_path, target_size=(224,224))\n",
    "plt.imshow(img)"
   ]
  },
  {
   "cell_type": "markdown",
   "id": "140d87b9",
   "metadata": {
    "papermill": {
     "duration": 0.032463,
     "end_time": "2022-01-05T08:09:10.166120",
     "exception": false,
     "start_time": "2022-01-05T08:09:10.133657",
     "status": "completed"
    },
    "tags": []
   },
   "source": [
    "## Data Augmentation"
   ]
  },
  {
   "cell_type": "code",
   "execution_count": null,
   "id": "0218fada",
   "metadata": {
    "execution": {
     "iopub.execute_input": "2022-01-05T08:09:10.240142Z",
     "iopub.status.busy": "2022-01-05T08:09:10.239266Z",
     "iopub.status.idle": "2022-01-05T08:09:10.890099Z",
     "shell.execute_reply": "2022-01-05T08:09:10.889217Z",
     "shell.execute_reply.started": "2022-01-04T16:34:43.246442Z"
    },
    "papermill": {
     "duration": 0.691803,
     "end_time": "2022-01-05T08:09:10.890323",
     "exception": false,
     "start_time": "2022-01-05T08:09:10.198520",
     "status": "completed"
    },
    "tags": []
   },
   "outputs": [],
   "source": [
    "train_datagen_aug = ImageDataGenerator(\n",
    "        shear_range=0.2,\n",
    "        fill_mode='nearest',\n",
    "        rescale=1./255,\n",
    "        horizontal_flip=True)\n",
    "\n",
    "train_generator_aug = train_datagen_aug.flow_from_directory(\n",
    "        train_path,\n",
    "        target_size=(224, 224),\n",
    "        batch_size=25,\n",
    "        class_mode='categorical')\n",
    "\n",
    "test_datagen = ImageDataGenerator(rescale=1./255)\n",
    "\n",
    "test_generator = test_datagen.flow_from_directory(\n",
    "        test_path,\n",
    "        target_size=(224, 224),\n",
    "        batch_size=1,\n",
    "        shuffle = False,\n",
    "        class_mode='categorical')\n",
    "\n",
    "val_generator = test_datagen.flow_from_directory(\n",
    "        validation_path,\n",
    "        target_size=(224, 224),\n",
    "        batch_size=10,\n",
    "        class_mode='categorical')"
   ]
  },
  {
   "cell_type": "code",
   "execution_count": null,
   "id": "91d3ad09",
   "metadata": {
    "execution": {
     "iopub.execute_input": "2022-01-05T08:09:11.012247Z",
     "iopub.status.busy": "2022-01-05T08:09:11.011258Z",
     "iopub.status.idle": "2022-01-05T08:09:11.015104Z",
     "shell.execute_reply": "2022-01-05T08:09:11.016394Z",
     "shell.execute_reply.started": "2022-01-04T16:34:43.788097Z"
    },
    "papermill": {
     "duration": 0.069836,
     "end_time": "2022-01-05T08:09:11.016634",
     "exception": false,
     "start_time": "2022-01-05T08:09:10.946798",
     "status": "completed"
    },
    "tags": []
   },
   "outputs": [],
   "source": [
    "train_filenames = train_generator_aug.filenames\n",
    "steps_train = len(train_filenames)/train_generator_aug.batch_size\n",
    "\n",
    "val_filenames = val_generator.filenames\n",
    "steps_val = len(val_filenames)/val_generator.batch_size\n",
    "\n",
    "filenames_test = test_generator.filenames\n",
    "nb_samples_test= len(filenames_test)\n",
    "true_classes = test_generator.classes\n",
    "target_names = classes"
   ]
  },
  {
   "cell_type": "markdown",
   "id": "ce131c26",
   "metadata": {
    "papermill": {
     "duration": 0.044779,
     "end_time": "2022-01-05T08:09:11.120114",
     "exception": false,
     "start_time": "2022-01-05T08:09:11.075335",
     "status": "completed"
    },
    "tags": []
   },
   "source": [
    "# Xception"
   ]
  },
  {
   "cell_type": "code",
   "execution_count": null,
   "id": "36591d81",
   "metadata": {
    "execution": {
     "iopub.execute_input": "2022-01-05T08:09:11.194888Z",
     "iopub.status.busy": "2022-01-05T08:09:11.193960Z",
     "iopub.status.idle": "2022-01-05T08:09:16.398371Z",
     "shell.execute_reply": "2022-01-05T08:09:16.399382Z",
     "shell.execute_reply.started": "2022-01-04T16:34:43.803138Z"
    },
    "papermill": {
     "duration": 5.246974,
     "end_time": "2022-01-05T08:09:16.399713",
     "exception": false,
     "start_time": "2022-01-05T08:09:11.152739",
     "status": "completed"
    },
    "tags": []
   },
   "outputs": [],
   "source": [
    "model = xception.Xception(weights='imagenet', include_top=False, input_shape=(224, 224, 3),classes=3,pooling='avg')\n",
    "print (model.summary())"
   ]
  },
  {
   "cell_type": "code",
   "execution_count": null,
   "id": "cfb133ce",
   "metadata": {
    "execution": {
     "iopub.execute_input": "2022-01-05T08:09:16.492545Z",
     "iopub.status.busy": "2022-01-05T08:09:16.491528Z",
     "iopub.status.idle": "2022-01-05T08:09:18.912620Z",
     "shell.execute_reply": "2022-01-05T08:09:18.913207Z",
     "shell.execute_reply.started": "2022-01-04T16:34:49.165001Z"
    },
    "papermill": {
     "duration": 2.468896,
     "end_time": "2022-01-05T08:09:18.913422",
     "exception": false,
     "start_time": "2022-01-05T08:09:16.444526",
     "status": "completed"
    },
    "tags": []
   },
   "outputs": [],
   "source": [
    "plot_model(model, to_file='model_plot.png', show_shapes=True, show_layer_names=True)"
   ]
  },
  {
   "cell_type": "code",
   "execution_count": null,
   "id": "8c3784cf",
   "metadata": {
    "execution": {
     "iopub.execute_input": "2022-01-05T08:09:19.066407Z",
     "iopub.status.busy": "2022-01-05T08:09:19.065442Z",
     "iopub.status.idle": "2022-01-05T08:09:19.069324Z",
     "shell.execute_reply": "2022-01-05T08:09:19.069888Z",
     "shell.execute_reply.started": "2022-01-04T16:34:51.521429Z"
    },
    "papermill": {
     "duration": 0.085012,
     "end_time": "2022-01-05T08:09:19.070053",
     "exception": false,
     "start_time": "2022-01-05T08:09:18.985041",
     "status": "completed"
    },
    "tags": []
   },
   "outputs": [],
   "source": [
    "count = 0\n",
    "for layer in model.layers:\n",
    "    count += 1\n",
    "count"
   ]
  },
  {
   "cell_type": "code",
   "execution_count": null,
   "id": "e651d958",
   "metadata": {
    "execution": {
     "iopub.execute_input": "2022-01-05T08:09:19.224002Z",
     "iopub.status.busy": "2022-01-05T08:09:19.222948Z",
     "iopub.status.idle": "2022-01-05T08:09:19.225840Z",
     "shell.execute_reply": "2022-01-05T08:09:19.226403Z",
     "shell.execute_reply.started": "2022-01-04T16:34:51.536394Z"
    },
    "papermill": {
     "duration": 0.08721,
     "end_time": "2022-01-05T08:09:19.226618",
     "exception": false,
     "start_time": "2022-01-05T08:09:19.139408",
     "status": "completed"
    },
    "tags": []
   },
   "outputs": [],
   "source": [
    "for layer in model.layers:\n",
    "    layer.trainable = False"
   ]
  },
  {
   "cell_type": "code",
   "execution_count": null,
   "id": "bfdb0808",
   "metadata": {
    "execution": {
     "iopub.execute_input": "2022-01-05T08:09:19.379540Z",
     "iopub.status.busy": "2022-01-05T08:09:19.378343Z",
     "iopub.status.idle": "2022-01-05T08:09:19.407035Z",
     "shell.execute_reply": "2022-01-05T08:09:19.406011Z",
     "shell.execute_reply.started": "2022-01-04T16:34:51.560331Z"
    },
    "papermill": {
     "duration": 0.109657,
     "end_time": "2022-01-05T08:09:19.407191",
     "exception": false,
     "start_time": "2022-01-05T08:09:19.297534",
     "status": "completed"
    },
    "tags": []
   },
   "outputs": [],
   "source": [
    "x=model.output\n",
    "x=tf.keras.layers.Dropout(.2)(x)\n",
    "output=Dense(3,activation='softmax')(x)\n",
    "base_xception=Model(model.input,output)"
   ]
  },
  {
   "cell_type": "code",
   "execution_count": null,
   "id": "5c1e4cf2",
   "metadata": {
    "execution": {
     "iopub.execute_input": "2022-01-05T08:09:19.586767Z",
     "iopub.status.busy": "2022-01-05T08:09:19.585525Z",
     "iopub.status.idle": "2022-01-05T08:56:38.443387Z",
     "shell.execute_reply": "2022-01-05T08:56:38.443943Z",
     "shell.execute_reply.started": "2022-01-04T16:34:51.610910Z"
    },
    "papermill": {
     "duration": 2838.966372,
     "end_time": "2022-01-05T08:56:38.444128",
     "exception": false,
     "start_time": "2022-01-05T08:09:19.477756",
     "status": "completed"
    },
    "tags": []
   },
   "outputs": [],
   "source": [
    "base_xception.compile(loss='categorical_crossentropy',\n",
    "              optimizer=RMSprop(learning_rate=0.0001),\n",
    "              metrics=['acc'])\n",
    "\n",
    "es = EarlyStopping(monitor='val_accuracy', min_delta=0.01,patience= 5, verbose=1)\n",
    "mc = ModelCheckpoint(\"./base_best.h5\", monitor='val_accuracy', verbose=1, save_best_only=True)\n",
    "cb=[es, mc]\n",
    "\n",
    "fit_generator = base_xception.fit(train_generator_aug,\n",
    "                                   steps_per_epoch=steps_train,\n",
    "                                    epochs=50,\n",
    "                                    validation_data=val_generator,\n",
    "                                    validation_steps=steps_val,\n",
    "                                    verbose=1,\n",
    "                                    callbacks=cb)"
   ]
  },
  {
   "cell_type": "code",
   "execution_count": null,
   "id": "f33b401c",
   "metadata": {
    "execution": {
     "iopub.execute_input": "2022-01-05T08:56:44.034511Z",
     "iopub.status.busy": "2022-01-05T08:56:44.033337Z",
     "iopub.status.idle": "2022-01-05T08:56:44.482231Z",
     "shell.execute_reply": "2022-01-05T08:56:44.481682Z",
     "shell.execute_reply.started": "2022-01-04T17:20:13.069643Z"
    },
    "papermill": {
     "duration": 3.054336,
     "end_time": "2022-01-05T08:56:44.482411",
     "exception": false,
     "start_time": "2022-01-05T08:56:41.428075",
     "status": "completed"
    },
    "tags": []
   },
   "outputs": [],
   "source": [
    "acc = fit_generator.history['acc']\n",
    "val_acc = fit_generator.history['val_acc']\n",
    "loss = fit_generator.history['loss']\n",
    "val_loss = fit_generator.history['val_loss']\n",
    "\n",
    "epochs = range(len(acc))\n",
    "\n",
    "plt.plot(epochs, acc, 'b', label='Training acc')\n",
    "plt.plot(epochs, val_acc,'r', label='Validation acc')\n",
    "plt.title('Training and validation accuracy')\n",
    "plt.legend()\n",
    "\n",
    "plt.figure()\n",
    "plt.plot(epochs, loss, 'b', label='Training loss')\n",
    "plt.plot(epochs, val_loss, 'r', label='Validation loss')\n",
    "plt.title('Training and validation loss')\n",
    "plt.legend()\n",
    "plt.show()"
   ]
  },
  {
   "cell_type": "code",
   "execution_count": null,
   "id": "27bc3cad",
   "metadata": {
    "execution": {
     "iopub.execute_input": "2022-01-05T08:56:49.808602Z",
     "iopub.status.busy": "2022-01-05T08:56:49.807499Z",
     "iopub.status.idle": "2022-01-05T08:56:50.245114Z",
     "shell.execute_reply": "2022-01-05T08:56:50.245708Z",
     "shell.execute_reply.started": "2022-01-04T17:20:26.817027Z"
    },
    "papermill": {
     "duration": 3.145285,
     "end_time": "2022-01-05T08:56:50.245887",
     "exception": false,
     "start_time": "2022-01-05T08:56:47.100602",
     "status": "completed"
    },
    "tags": []
   },
   "outputs": [],
   "source": [
    "base_xception.save('groceries_base_model.h5')\n",
    "converter = tf.lite.TFLiteConverter.from_keras_model(base_xception)\n",
    "tflite_model = converter.convert()\n",
    "\n",
    "with open('base_model_xception.tflite', 'wb') as f:\n",
    "    f.write(tflite_model)"
   ]
  },
  {
   "cell_type": "markdown",
   "id": "cb5d42c1",
   "metadata": {
    "papermill": {
     "duration": 2.619548,
     "end_time": "2022-01-05T08:57:31.500977",
     "exception": false,
     "start_time": "2022-01-05T08:57:28.881429",
     "status": "completed"
    },
    "tags": []
   },
   "source": [
    "## Predict on test data"
   ]
  },
  {
   "cell_type": "code",
   "execution_count": null,
   "id": "638de170",
   "metadata": {
    "execution": {
     "iopub.execute_input": "2022-01-05T08:57:37.142906Z",
     "iopub.status.busy": "2022-01-05T08:57:37.142216Z",
     "iopub.status.idle": "2022-01-05T08:57:52.695808Z",
     "shell.execute_reply": "2022-01-05T08:57:52.695072Z",
     "shell.execute_reply.started": "2022-01-04T17:20:58.382793Z"
    },
    "papermill": {
     "duration": 18.534331,
     "end_time": "2022-01-05T08:57:52.695947",
     "exception": false,
     "start_time": "2022-01-05T08:57:34.161616",
     "status": "completed"
    },
    "tags": []
   },
   "outputs": [],
   "source": [
    "base_pred= base_xception.predict(test_generator, steps = nb_samples_test, verbose=2)\n",
    "base_pred= base_pred.argmax(axis=1)"
   ]
  },
  {
   "cell_type": "code",
   "execution_count": null,
   "id": "11b100ec",
   "metadata": {
    "execution": {
     "iopub.execute_input": "2022-01-05T08:57:59.054169Z",
     "iopub.status.busy": "2022-01-05T08:57:59.053151Z",
     "iopub.status.idle": "2022-01-05T08:57:59.348569Z",
     "shell.execute_reply": "2022-01-05T08:57:59.347939Z",
     "shell.execute_reply.started": "2022-01-04T17:24:56.574282Z"
    },
    "papermill": {
     "duration": 4.020683,
     "end_time": "2022-01-05T08:57:59.348759",
     "exception": false,
     "start_time": "2022-01-05T08:57:55.328076",
     "status": "completed"
    },
    "tags": []
   },
   "outputs": [],
   "source": [
    "cm = confusion_matrix(base_pred, true_classes)\n",
    "f, ax= plt.subplots(1,1,figsize=(5,3))\n",
    "sns.heatmap(cm, annot=True, fmt='g', ax=ax)\n",
    "\n",
    "ax.set_xlabel('Predicted labels')\n",
    "ax.set_ylabel('True labels') \n",
    "ax.set_title('Confusion Matrix')\n",
    "ax.xaxis.set_ticklabels(classes) \n",
    "ax.yaxis.set_ticklabels(classes)"
   ]
  },
  {
   "cell_type": "code",
   "execution_count": null,
   "id": "c04b3a29",
   "metadata": {
    "execution": {
     "iopub.execute_input": "2022-01-05T08:58:04.632022Z",
     "iopub.status.busy": "2022-01-05T08:58:04.631297Z",
     "iopub.status.idle": "2022-01-05T08:58:04.642650Z",
     "shell.execute_reply": "2022-01-05T08:58:04.643498Z",
     "shell.execute_reply.started": "2022-01-04T17:21:45.304142Z"
    },
    "papermill": {
     "duration": 2.621673,
     "end_time": "2022-01-05T08:58:04.643736",
     "exception": false,
     "start_time": "2022-01-05T08:58:02.022063",
     "status": "completed"
    },
    "tags": []
   },
   "outputs": [],
   "source": [
    "print(classification_report(true_classes, base_pred, target_names=target_names))"
   ]
  }
 ],
 "metadata": {
  "kernelspec": {
   "display_name": "Python 3 (ipykernel)",
   "language": "python",
   "name": "python3"
  },
  "language_info": {
   "codemirror_mode": {
    "name": "ipython",
    "version": 3
   },
   "file_extension": ".py",
   "mimetype": "text/x-python",
   "name": "python",
   "nbconvert_exporter": "python",
   "pygments_lexer": "ipython3",
   "version": "3.8.16"
  },
  "papermill": {
   "default_parameters": {},
   "duration": 2961.039406,
   "end_time": "2022-01-05T08:58:10.885518",
   "environment_variables": {},
   "exception": null,
   "input_path": "__notebook__.ipynb",
   "output_path": "__notebook__.ipynb",
   "parameters": {},
   "start_time": "2022-01-05T08:08:49.846112",
   "version": "2.3.3"
  }
 },
 "nbformat": 4,
 "nbformat_minor": 5
}
