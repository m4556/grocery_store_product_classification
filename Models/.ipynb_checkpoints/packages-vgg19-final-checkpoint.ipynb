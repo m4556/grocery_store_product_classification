{
 "cells": [
  {
   "cell_type": "code",
   "execution_count": null,
   "id": "27f8895b",
   "metadata": {
    "_cell_guid": "b1076dfc-b9ad-4769-8c92-a6c4dae69d19",
    "_uuid": "8f2839f25d086af736a60e9eeb907d3b93b6e0e5",
    "execution": {
     "iopub.execute_input": "2021-12-29T15:16:54.825953Z",
     "iopub.status.busy": "2021-12-29T15:16:54.815515Z",
     "iopub.status.idle": "2021-12-29T15:17:01.011848Z",
     "shell.execute_reply": "2021-12-29T15:17:01.011038Z",
     "shell.execute_reply.started": "2021-12-29T14:07:35.698107Z"
    },
    "papermill": {
     "duration": 6.2155,
     "end_time": "2021-12-29T15:17:01.012003",
     "exception": false,
     "start_time": "2021-12-29T15:16:54.796503",
     "status": "completed"
    },
    "tags": []
   },
   "outputs": [],
   "source": [
    "from __future__ import absolute_import, division, print_function\n",
    "import numpy as np\n",
    "import collections\n",
    "import math\n",
    "import os\n",
    "import random\n",
    "from six.moves import urllib\n",
    "import io\n",
    "import shutil\n",
    "import matplotlib.pyplot as plt\n",
    "import seaborn as sns\n",
    "from IPython.display import clear_output, Image, display, HTML\n",
    "import tensorflow as tf\n",
    "import tensorflow_hub as hub\n",
    "import sklearn.metrics as sk_metrics\n",
    "import time\n",
    "from tensorflow.python.keras.preprocessing.image import ImageDataGenerator\n",
    "from tensorflow.keras import optimizers, layers, models\n",
    "from tensorflow.keras.preprocessing import image\n",
    "from tensorflow.keras import regularizers\n",
    "from tensorflow.keras.models import Model, Sequential\n",
    "from tensorflow.keras.layers import Dense, GlobalAveragePooling2D, BatchNormalization, Dropout, Flatten\n",
    "from tensorflow.keras import backend as K\n",
    "from keras.utils.vis_utils import plot_model\n",
    "from keras.callbacks import EarlyStopping, ModelCheckpoint\n",
    "from tensorflow.keras.applications import VGG16\n",
    "from tensorflow.keras.applications import VGG19\n",
    "from sklearn.metrics import confusion_matrix, classification_report"
   ]
  },
  {
   "cell_type": "markdown",
   "id": "ef1bee48",
   "metadata": {
    "papermill": {
     "duration": 0.013906,
     "end_time": "2021-12-29T15:17:01.040497",
     "exception": false,
     "start_time": "2021-12-29T15:17:01.026591",
     "status": "completed"
    },
    "tags": []
   },
   "source": [
    "### Packages data path"
   ]
  },
  {
   "cell_type": "code",
   "execution_count": null,
   "id": "52150922",
   "metadata": {
    "execution": {
     "iopub.execute_input": "2021-12-29T15:17:01.072580Z",
     "iopub.status.busy": "2021-12-29T15:17:01.071808Z",
     "iopub.status.idle": "2021-12-29T15:17:01.073710Z",
     "shell.execute_reply": "2021-12-29T15:17:01.074182Z",
     "shell.execute_reply.started": "2021-12-29T14:07:41.736667Z"
    },
    "papermill": {
     "duration": 0.019941,
     "end_time": "2021-12-29T15:17:01.074311",
     "exception": false,
     "start_time": "2021-12-29T15:17:01.054370",
     "status": "completed"
    },
    "tags": []
   },
   "outputs": [],
   "source": [
    "train_path = '../input/datasetfinal/dataset70-10-20/train/Packages'\n",
    "validation_path = '../input/datasetfinal/dataset70-10-20/val/Packages'\n",
    "test_path = '../input/datasetfinal/dataset70-10-20/test/Packages'"
   ]
  },
  {
   "cell_type": "code",
   "execution_count": null,
   "id": "5e750572",
   "metadata": {
    "execution": {
     "iopub.execute_input": "2021-12-29T15:17:01.106372Z",
     "iopub.status.busy": "2021-12-29T15:17:01.105837Z",
     "iopub.status.idle": "2021-12-29T15:17:01.261753Z",
     "shell.execute_reply": "2021-12-29T15:17:01.262201Z",
     "shell.execute_reply.started": "2021-12-29T14:07:41.747414Z"
    },
    "papermill": {
     "duration": 0.174224,
     "end_time": "2021-12-29T15:17:01.262340",
     "exception": false,
     "start_time": "2021-12-29T15:17:01.088116",
     "status": "completed"
    },
    "tags": []
   },
   "outputs": [],
   "source": [
    "classes=[]\n",
    "for root, subdirectories, files in os.walk(train_path):\n",
    "    for subdirectory in subdirectories:\n",
    "        classes.append(subdirectory)\n",
    "print(len(classes))\n",
    "print(classes)"
   ]
  },
  {
   "cell_type": "code",
   "execution_count": null,
   "id": "bfd16ace",
   "metadata": {
    "execution": {
     "iopub.execute_input": "2021-12-29T15:17:01.293643Z",
     "iopub.status.busy": "2021-12-29T15:17:01.292834Z",
     "iopub.status.idle": "2021-12-29T15:17:01.607483Z",
     "shell.execute_reply": "2021-12-29T15:17:01.606856Z",
     "shell.execute_reply.started": "2021-12-29T14:07:41.938104Z"
    },
    "papermill": {
     "duration": 0.33107,
     "end_time": "2021-12-29T15:17:01.607656",
     "exception": false,
     "start_time": "2021-12-29T15:17:01.276586",
     "status": "completed"
    },
    "tags": []
   },
   "outputs": [],
   "source": [
    "train_batches  = ImageDataGenerator().flow_from_directory(\n",
    "    train_path, target_size=(224, 224), classes = classes, batch_size = 50)\n",
    "\n",
    "validation_batches  = ImageDataGenerator().flow_from_directory(\n",
    "    validation_path, target_size=(224, 224), classes = classes, batch_size = 10)\n",
    "\n",
    "test_batches  = ImageDataGenerator().flow_from_directory(\n",
    "    test_path, target_size=(224, 224), classes = classes, batch_size = 10)"
   ]
  },
  {
   "cell_type": "markdown",
   "id": "03bfbda1",
   "metadata": {
    "papermill": {
     "duration": 0.014722,
     "end_time": "2021-12-29T15:17:01.638540",
     "exception": false,
     "start_time": "2021-12-29T15:17:01.623818",
     "status": "completed"
    },
    "tags": []
   },
   "source": [
    "## Data Augmentation"
   ]
  },
  {
   "cell_type": "code",
   "execution_count": null,
   "id": "e628e636",
   "metadata": {
    "execution": {
     "iopub.execute_input": "2021-12-29T15:17:01.674572Z",
     "iopub.status.busy": "2021-12-29T15:17:01.673727Z",
     "iopub.status.idle": "2021-12-29T15:17:01.990390Z",
     "shell.execute_reply": "2021-12-29T15:17:01.989883Z",
     "shell.execute_reply.started": "2021-12-29T14:07:50.431231Z"
    },
    "papermill": {
     "duration": 0.337336,
     "end_time": "2021-12-29T15:17:01.990514",
     "exception": false,
     "start_time": "2021-12-29T15:17:01.653178",
     "status": "completed"
    },
    "tags": []
   },
   "outputs": [],
   "source": [
    "train_datagen_aug = ImageDataGenerator(\n",
    "        rotation_range=40,\n",
    "        width_shift_range=0.2,\n",
    "        height_shift_range=0.2,\n",
    "        fill_mode='nearest',\n",
    "        rescale=1./255,\n",
    "        zoom_range=0.2)\n",
    "\n",
    "train_generator_aug = train_datagen_aug.flow_from_directory(\n",
    "        train_path,\n",
    "        target_size=(224, 224),\n",
    "        batch_size=25,\n",
    "        class_mode='categorical')\n",
    "\n",
    "test_datagen = ImageDataGenerator(rescale=1./255)\n",
    "\n",
    "test_generator = test_datagen.flow_from_directory(\n",
    "        test_path,\n",
    "        target_size=(224, 224),\n",
    "        batch_size=1,\n",
    "        shuffle = False,\n",
    "        class_mode='categorical')\n",
    "\n",
    "val_generator = test_datagen.flow_from_directory(\n",
    "        validation_path,\n",
    "        target_size=(224, 224),\n",
    "        batch_size=10,\n",
    "        class_mode='categorical')"
   ]
  },
  {
   "cell_type": "code",
   "execution_count": null,
   "id": "fee444ad",
   "metadata": {
    "execution": {
     "iopub.execute_input": "2021-12-29T15:17:02.026267Z",
     "iopub.status.busy": "2021-12-29T15:17:02.025517Z",
     "iopub.status.idle": "2021-12-29T15:17:02.027468Z",
     "shell.execute_reply": "2021-12-29T15:17:02.027858Z",
     "shell.execute_reply.started": "2021-12-29T14:07:54.860472Z"
    },
    "papermill": {
     "duration": 0.022165,
     "end_time": "2021-12-29T15:17:02.027976",
     "exception": false,
     "start_time": "2021-12-29T15:17:02.005811",
     "status": "completed"
    },
    "tags": []
   },
   "outputs": [],
   "source": [
    "train_filenames = train_generator_aug.filenames\n",
    "steps_train = len(train_filenames)/train_generator_aug.batch_size\n",
    "\n",
    "val_filenames = val_generator.filenames\n",
    "steps_val = len(val_filenames)/val_generator.batch_size\n",
    "\n",
    "filenames_test = test_generator.filenames\n",
    "nb_samples_test= len(filenames_test)\n",
    "true_classes = test_generator.classes\n",
    "target_names = classes"
   ]
  },
  {
   "cell_type": "markdown",
   "id": "bf64874a",
   "metadata": {
    "papermill": {
     "duration": 0.015787,
     "end_time": "2021-12-29T15:17:02.058900",
     "exception": false,
     "start_time": "2021-12-29T15:17:02.043113",
     "status": "completed"
    },
    "tags": []
   },
   "source": [
    "## VGG19 with Augmentation and DropOut"
   ]
  },
  {
   "cell_type": "code",
   "execution_count": null,
   "id": "08d53a71",
   "metadata": {
    "execution": {
     "iopub.execute_input": "2021-12-29T15:17:02.095486Z",
     "iopub.status.busy": "2021-12-29T15:17:02.094924Z",
     "iopub.status.idle": "2021-12-29T15:17:06.839702Z",
     "shell.execute_reply": "2021-12-29T15:17:06.838909Z",
     "shell.execute_reply.started": "2021-12-29T14:12:40.329525Z"
    },
    "papermill": {
     "duration": 4.76579,
     "end_time": "2021-12-29T15:17:06.839838",
     "exception": false,
     "start_time": "2021-12-29T15:17:02.074048",
     "status": "completed"
    },
    "tags": []
   },
   "outputs": [],
   "source": [
    "base_model_vgg19 = VGG19(weights = 'imagenet',include_top=False, input_shape=(224, 224, 3))  #not include the 3 fully-connected layers at the top of the network.\n",
    "base_model_vgg19.summary()\n",
    "#plot_model(base_model_vgg19)\n",
    "\n",
    "base_model_vgg19.trainable = False"
   ]
  },
  {
   "cell_type": "code",
   "execution_count": null,
   "id": "3dba1108",
   "metadata": {
    "execution": {
     "iopub.execute_input": "2021-12-29T15:17:06.886927Z",
     "iopub.status.busy": "2021-12-29T15:17:06.886160Z",
     "iopub.status.idle": "2021-12-29T15:17:06.997472Z",
     "shell.execute_reply": "2021-12-29T15:17:06.997893Z",
     "shell.execute_reply.started": "2021-12-29T14:12:57.012488Z"
    },
    "papermill": {
     "duration": 0.138698,
     "end_time": "2021-12-29T15:17:06.998033",
     "exception": false,
     "start_time": "2021-12-29T15:17:06.859335",
     "status": "completed"
    },
    "tags": []
   },
   "outputs": [],
   "source": [
    "translearn_vgg19 = Sequential()\n",
    "\n",
    "# Add vgg19 layer by layer to our model and freeze all\n",
    "for layer in base_model_vgg19.layers:\n",
    "    translearn_vgg19.add(layer)\n",
    "    \n",
    "# train last two layers of vgg19\n",
    "for layer in translearn_vgg19.layers[-2:]:\n",
    "    layer.trainable=True\n",
    "    \n",
    "translearn_vgg19.add(GlobalAveragePooling2D())\n",
    "translearn_vgg19.add(Dropout(0.2))\n",
    "translearn_vgg19.add(Dense(31, activation='softmax'))\n",
    "translearn_vgg19.summary()"
   ]
  },
  {
   "cell_type": "code",
   "execution_count": null,
   "id": "f0ad3289",
   "metadata": {
    "execution": {
     "iopub.execute_input": "2021-12-29T15:17:07.051062Z",
     "iopub.status.busy": "2021-12-29T15:17:07.045578Z",
     "iopub.status.idle": "2021-12-29T15:46:02.972493Z",
     "shell.execute_reply": "2021-12-29T15:46:02.972906Z",
     "shell.execute_reply.started": "2021-12-29T14:13:53.117068Z"
    },
    "papermill": {
     "duration": 1735.954098,
     "end_time": "2021-12-29T15:46:02.973097",
     "exception": false,
     "start_time": "2021-12-29T15:17:07.018999",
     "status": "completed"
    },
    "tags": []
   },
   "outputs": [],
   "source": [
    "## compile model\n",
    "translearn_vgg19.compile(loss='categorical_crossentropy',\n",
    "              optimizer=optimizers.Adam(learning_rate=0.002),\n",
    "              metrics=['acc'])\n",
    "\n",
    "# Callbacks\n",
    "es = EarlyStopping(monitor='val_accuracy', min_delta=0.01,patience= 5, verbose=1)\n",
    "mc = ModelCheckpoint(\"./vgg19_best_packages.h5\", monitor='val_accuracy', verbose=1, save_best_only=True)\n",
    "cb=[es, mc]\n",
    "\n",
    "## fit model\n",
    "model_vgg19 = translearn_vgg19.fit(train_generator_aug,\n",
    "                                   steps_per_epoch=steps_train,\n",
    "                                   epochs=100,\n",
    "                                   validation_data=val_generator,\n",
    "                                   validation_steps=steps_val,\n",
    "                                   verbose=1,\n",
    "                                   callbacks=cb)"
   ]
  },
  {
   "cell_type": "code",
   "execution_count": null,
   "id": "6206acc1",
   "metadata": {
    "execution": {
     "iopub.execute_input": "2021-12-29T15:46:06.056260Z",
     "iopub.status.busy": "2021-12-29T15:46:06.055295Z",
     "iopub.status.idle": "2021-12-29T15:46:06.304615Z",
     "shell.execute_reply": "2021-12-29T15:46:06.305561Z",
     "shell.execute_reply.started": "2021-12-29T15:04:04.189912Z"
    },
    "papermill": {
     "duration": 1.999334,
     "end_time": "2021-12-29T15:46:06.305821",
     "exception": false,
     "start_time": "2021-12-29T15:46:04.306487",
     "status": "completed"
    },
    "tags": []
   },
   "outputs": [],
   "source": [
    "translearn_vgg19.save('packages_vgg19.h5')"
   ]
  },
  {
   "cell_type": "code",
   "execution_count": null,
   "id": "ec8af8f7",
   "metadata": {
    "execution": {
     "iopub.execute_input": "2021-12-29T15:46:09.288883Z",
     "iopub.status.busy": "2021-12-29T15:46:09.288001Z",
     "iopub.status.idle": "2021-12-29T15:46:14.300594Z",
     "shell.execute_reply": "2021-12-29T15:46:14.301299Z",
     "shell.execute_reply.started": "2021-12-29T15:04:10.441209Z"
    },
    "papermill": {
     "duration": 6.359236,
     "end_time": "2021-12-29T15:46:14.301596",
     "exception": false,
     "start_time": "2021-12-29T15:46:07.942360",
     "status": "completed"
    },
    "tags": []
   },
   "outputs": [],
   "source": [
    "converter = tf.lite.TFLiteConverter.from_keras_model(translearn_vgg19)\n",
    "tflite_model = converter.convert()\n",
    "\n",
    "with open('packages_vgg19.tflite', 'wb') as f:\n",
    "    f.write(tflite_model)"
   ]
  },
  {
   "cell_type": "code",
   "execution_count": null,
   "id": "1721dfd1",
   "metadata": {
    "execution": {
     "iopub.execute_input": "2021-12-29T15:46:17.017484Z",
     "iopub.status.busy": "2021-12-29T15:46:17.016746Z",
     "iopub.status.idle": "2021-12-29T15:46:17.386698Z",
     "shell.execute_reply": "2021-12-29T15:46:17.387226Z",
     "shell.execute_reply.started": "2021-12-29T14:42:31.975458Z"
    },
    "papermill": {
     "duration": 1.704531,
     "end_time": "2021-12-29T15:46:17.387373",
     "exception": false,
     "start_time": "2021-12-29T15:46:15.682842",
     "status": "completed"
    },
    "tags": []
   },
   "outputs": [],
   "source": [
    "acc = model_vgg19.history['acc']\n",
    "val_acc = model_vgg19.history['val_acc']\n",
    "loss = model_vgg19.history['loss']\n",
    "val_loss = model_vgg19.history['val_loss']\n",
    "\n",
    "epochs = range(len(acc))\n",
    "plt.plot(epochs, acc, 'b', label='Training acc')\n",
    "plt.plot(epochs, val_acc, 'r', label='Validation acc')\n",
    "plt.title('Training and validation accuracy')\n",
    "plt.legend()\n",
    "plt.figure()\n",
    "\n",
    "plt.plot(epochs, loss, 'b', label='Training loss')\n",
    "plt.plot(epochs, val_loss, 'r', label='Validation loss')\n",
    "plt.title('Training and validation loss')\n",
    "plt.legend()\n",
    "plt.show()"
   ]
  },
  {
   "cell_type": "markdown",
   "id": "85ac1cb3",
   "metadata": {
    "papermill": {
     "duration": 1.378931,
     "end_time": "2021-12-29T15:46:20.389878",
     "exception": false,
     "start_time": "2021-12-29T15:46:19.010947",
     "status": "completed"
    },
    "tags": []
   },
   "source": [
    "## Predict"
   ]
  },
  {
   "cell_type": "code",
   "execution_count": null,
   "id": "caccb120",
   "metadata": {
    "execution": {
     "iopub.execute_input": "2021-12-29T15:46:23.127936Z",
     "iopub.status.busy": "2021-12-29T15:46:23.127387Z",
     "iopub.status.idle": "2021-12-29T15:46:26.101844Z",
     "shell.execute_reply": "2021-12-29T15:46:26.102270Z",
     "shell.execute_reply.started": "2021-12-29T14:42:32.360337Z"
    },
    "papermill": {
     "duration": 4.367994,
     "end_time": "2021-12-29T15:46:26.102432",
     "exception": false,
     "start_time": "2021-12-29T15:46:21.734438",
     "status": "completed"
    },
    "tags": []
   },
   "outputs": [],
   "source": [
    "pack_pred= translearn_vgg19.predict(test_generator, steps = nb_samples_test, verbose=2)\n",
    "pack_pred = pack_pred.argmax(axis=1)"
   ]
  },
  {
   "cell_type": "markdown",
   "id": "5a6984ec",
   "metadata": {
    "papermill": {
     "duration": 1.634342,
     "end_time": "2021-12-29T15:46:29.062986",
     "exception": false,
     "start_time": "2021-12-29T15:46:27.428644",
     "status": "completed"
    },
    "tags": []
   },
   "source": [
    "### Confusion Matrix"
   ]
  },
  {
   "cell_type": "code",
   "execution_count": null,
   "id": "0ff2efdd",
   "metadata": {
    "execution": {
     "iopub.execute_input": "2021-12-29T15:46:31.721250Z",
     "iopub.status.busy": "2021-12-29T15:46:31.719648Z",
     "iopub.status.idle": "2021-12-29T15:46:31.721806Z",
     "shell.execute_reply": "2021-12-29T15:46:31.722233Z",
     "shell.execute_reply.started": "2021-12-29T14:42:35.277439Z"
    },
    "papermill": {
     "duration": 1.332598,
     "end_time": "2021-12-29T15:46:31.722373",
     "exception": false,
     "start_time": "2021-12-29T15:46:30.389775",
     "status": "completed"
    },
    "tags": []
   },
   "outputs": [],
   "source": [
    "# cm = confusion_matrix(pack_pred, true_classes)\n",
    "# f, ax= plt.subplots(1,1,figsize=(15,15))\n",
    "# sns.heatmap(cm, annot=True, fmt='g', ax=ax)\n",
    "\n",
    "# # labels, title and ticks\n",
    "# ax.set_xlabel('Predicted labels')\n",
    "# ax.set_ylabel('True labels') \n",
    "# ax.set_title('Confusion Matrix')\n",
    "# ax.xaxis.set_ticklabels(classes) \n",
    "# ax.yaxis.set_ticklabels(classes)"
   ]
  },
  {
   "cell_type": "markdown",
   "id": "db46b0e0",
   "metadata": {
    "papermill": {
     "duration": 1.335643,
     "end_time": "2021-12-29T15:46:34.391499",
     "exception": false,
     "start_time": "2021-12-29T15:46:33.055856",
     "status": "completed"
    },
    "tags": []
   },
   "source": [
    "### Classification Report"
   ]
  },
  {
   "cell_type": "code",
   "execution_count": null,
   "id": "3a1709a9",
   "metadata": {
    "execution": {
     "iopub.execute_input": "2021-12-29T15:46:37.299629Z",
     "iopub.status.busy": "2021-12-29T15:46:37.298734Z",
     "iopub.status.idle": "2021-12-29T15:46:37.310404Z",
     "shell.execute_reply": "2021-12-29T15:46:37.311159Z",
     "shell.execute_reply.started": "2021-12-29T14:42:35.286757Z"
    },
    "papermill": {
     "duration": 1.525183,
     "end_time": "2021-12-29T15:46:37.311380",
     "exception": false,
     "start_time": "2021-12-29T15:46:35.786197",
     "status": "completed"
    },
    "tags": []
   },
   "outputs": [],
   "source": [
    "print(classification_report(true_classes, pack_pred, target_names=target_names))"
   ]
  },
  {
   "cell_type": "code",
   "execution_count": null,
   "id": "c8f379eb",
   "metadata": {
    "papermill": {
     "duration": 1.653749,
     "end_time": "2021-12-29T15:46:40.874834",
     "exception": false,
     "start_time": "2021-12-29T15:46:39.221085",
     "status": "completed"
    },
    "tags": []
   },
   "outputs": [],
   "source": []
  }
 ],
 "metadata": {
  "kernelspec": {
   "display_name": "Python 3 (ipykernel)",
   "language": "python",
   "name": "python3"
  },
  "language_info": {
   "codemirror_mode": {
    "name": "ipython",
    "version": 3
   },
   "file_extension": ".py",
   "mimetype": "text/x-python",
   "name": "python",
   "nbconvert_exporter": "python",
   "pygments_lexer": "ipython3",
   "version": "3.8.16"
  },
  "papermill": {
   "default_parameters": {},
   "duration": 1799.341682,
   "end_time": "2021-12-29T15:46:45.757655",
   "environment_variables": {},
   "exception": null,
   "input_path": "__notebook__.ipynb",
   "output_path": "__notebook__.ipynb",
   "parameters": {},
   "start_time": "2021-12-29T15:16:46.415973",
   "version": "2.3.3"
  }
 },
 "nbformat": 4,
 "nbformat_minor": 5
}
