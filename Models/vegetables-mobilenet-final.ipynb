{
 "cells": [
  {
   "cell_type": "code",
   "execution_count": 1,
   "id": "7e146977",
   "metadata": {
    "_cell_guid": "b1076dfc-b9ad-4769-8c92-a6c4dae69d19",
    "_uuid": "8f2839f25d086af736a60e9eeb907d3b93b6e0e5",
    "execution": {
     "iopub.execute_input": "2022-01-05T16:18:24.222566Z",
     "iopub.status.busy": "2022-01-05T16:18:24.221436Z",
     "iopub.status.idle": "2022-01-05T16:18:31.100575Z",
     "shell.execute_reply": "2022-01-05T16:18:31.101104Z",
     "shell.execute_reply.started": "2022-01-05T15:56:09.447314Z"
    },
    "papermill": {
     "duration": 6.925617,
     "end_time": "2022-01-05T16:18:31.101573",
     "exception": false,
     "start_time": "2022-01-05T16:18:24.175956",
     "status": "completed"
    },
    "tags": []
   },
   "outputs": [],
   "source": [
    "from __future__ import absolute_import, division, print_function\n",
    "import numpy as np\n",
    "import collections\n",
    "import math\n",
    "import os\n",
    "import random\n",
    "from six.moves import urllib\n",
    "import io\n",
    "import shutil\n",
    "import matplotlib.pyplot as plt\n",
    "import seaborn as sns\n",
    "from IPython.display import clear_output, Image, display, HTML\n",
    "import tensorflow as tf\n",
    "import tensorflow_hub as hub\n",
    "import sklearn.metrics as sk_metrics\n",
    "import time\n",
    "from tensorflow.python.keras.preprocessing.image import ImageDataGenerator\n",
    "from tensorflow.keras import optimizers, layers, models\n",
    "from tensorflow.keras.preprocessing import image\n",
    "from tensorflow.keras import regularizers\n",
    "from tensorflow.keras.models import Model, Sequential\n",
    "from tensorflow.keras.layers import Dense, GlobalAveragePooling2D, BatchNormalization, Dropout, Flatten\n",
    "from tensorflow.keras import backend as K\n",
    "from keras.utils.vis_utils import plot_model\n",
    "from keras.callbacks import EarlyStopping, ModelCheckpoint\n",
    "from tensorflow.keras.applications import VGG16\n",
    "from tensorflow.keras.applications import VGG19\n",
    "from sklearn.metrics import confusion_matrix, classification_report"
   ]
  },
  {
   "cell_type": "code",
   "execution_count": 2,
   "id": "b4a13e4b",
   "metadata": {
    "execution": {
     "iopub.execute_input": "2022-01-05T16:18:31.140055Z",
     "iopub.status.busy": "2022-01-05T16:18:31.138941Z",
     "iopub.status.idle": "2022-01-05T16:18:31.141506Z",
     "shell.execute_reply": "2022-01-05T16:18:31.142108Z",
     "shell.execute_reply.started": "2022-01-05T15:56:09.460196Z"
    },
    "papermill": {
     "duration": 0.023118,
     "end_time": "2022-01-05T16:18:31.142253",
     "exception": false,
     "start_time": "2022-01-05T16:18:31.119135",
     "status": "completed"
    },
    "tags": []
   },
   "outputs": [],
   "source": [
    "## set train, validation, and test paths\n",
    "train_path = '../input/datasetfinal/dataset70-10-20/train/Vegetables'\n",
    "validation_path = '../input/datasetfinal/dataset70-10-20/val/Vegetables'\n",
    "test_path = '../input/datasetfinal/dataset70-10-20/test/Vegetables'"
   ]
  },
  {
   "cell_type": "code",
   "execution_count": 3,
   "id": "e7268ec2",
   "metadata": {
    "execution": {
     "iopub.execute_input": "2022-01-05T16:18:31.175856Z",
     "iopub.status.busy": "2022-01-05T16:18:31.174646Z",
     "iopub.status.idle": "2022-01-05T16:18:31.322541Z",
     "shell.execute_reply": "2022-01-05T16:18:31.323213Z",
     "shell.execute_reply.started": "2022-01-05T15:56:09.470260Z"
    },
    "papermill": {
     "duration": 0.166242,
     "end_time": "2022-01-05T16:18:31.323390",
     "exception": false,
     "start_time": "2022-01-05T16:18:31.157148",
     "status": "completed"
    },
    "tags": []
   },
   "outputs": [
    {
     "name": "stdout",
     "output_type": "stream",
     "text": [
      "22\n"
     ]
    }
   ],
   "source": [
    "veg_classes=[]\n",
    "for root, subdirectories, files in os.walk(train_path):\n",
    "    for subdirectory in subdirectories:\n",
    "        veg_classes.append(subdirectory)\n",
    "print(len(veg_classes))"
   ]
  },
  {
   "cell_type": "code",
   "execution_count": 4,
   "id": "0e182383",
   "metadata": {
    "execution": {
     "iopub.execute_input": "2022-01-05T16:18:31.364802Z",
     "iopub.status.busy": "2022-01-05T16:18:31.363697Z",
     "iopub.status.idle": "2022-01-05T16:18:31.676254Z",
     "shell.execute_reply": "2022-01-05T16:18:31.675680Z",
     "shell.execute_reply.started": "2022-01-05T15:56:09.506205Z"
    },
    "papermill": {
     "duration": 0.336147,
     "end_time": "2022-01-05T16:18:31.676412",
     "exception": false,
     "start_time": "2022-01-05T16:18:31.340265",
     "status": "completed"
    },
    "tags": []
   },
   "outputs": [
    {
     "name": "stdout",
     "output_type": "stream",
     "text": [
      "Found 903 images belonging to 22 classes.\n",
      "Found 122 images belonging to 22 classes.\n",
      "Found 281 images belonging to 22 classes.\n"
     ]
    }
   ],
   "source": [
    "train_batches  = ImageDataGenerator().flow_from_directory(\n",
    "    train_path, target_size=(224, 224), classes = veg_classes, batch_size = 50)\n",
    "\n",
    "validation_batches  = ImageDataGenerator().flow_from_directory(\n",
    "    validation_path, target_size=(224, 224), classes = veg_classes, batch_size = 10)\n",
    "\n",
    "test_batches  = ImageDataGenerator().flow_from_directory(\n",
    "    test_path, target_size=(224, 224), classes = veg_classes, batch_size = 10)"
   ]
  },
  {
   "cell_type": "markdown",
   "id": "7a6f0cbb",
   "metadata": {
    "papermill": {
     "duration": 0.016484,
     "end_time": "2022-01-05T16:18:31.710524",
     "exception": false,
     "start_time": "2022-01-05T16:18:31.694040",
     "status": "completed"
    },
    "tags": []
   },
   "source": [
    "## Data Augmentation"
   ]
  },
  {
   "cell_type": "code",
   "execution_count": 5,
   "id": "8c267943",
   "metadata": {
    "execution": {
     "iopub.execute_input": "2022-01-05T16:18:31.752611Z",
     "iopub.status.busy": "2022-01-05T16:18:31.751495Z",
     "iopub.status.idle": "2022-01-05T16:18:32.068119Z",
     "shell.execute_reply": "2022-01-05T16:18:32.067404Z",
     "shell.execute_reply.started": "2022-01-05T15:56:09.820720Z"
    },
    "papermill": {
     "duration": 0.34033,
     "end_time": "2022-01-05T16:18:32.068296",
     "exception": false,
     "start_time": "2022-01-05T16:18:31.727966",
     "status": "completed"
    },
    "tags": []
   },
   "outputs": [
    {
     "name": "stdout",
     "output_type": "stream",
     "text": [
      "Found 903 images belonging to 22 classes.\n",
      "Found 281 images belonging to 22 classes.\n",
      "Found 122 images belonging to 22 classes.\n"
     ]
    }
   ],
   "source": [
    "## Augmentation datagenerator\n",
    "train_datagen_aug = ImageDataGenerator(\n",
    "        rotation_range=40,\n",
    "        width_shift_range=0.2,\n",
    "        height_shift_range=0.2,\n",
    "        fill_mode='nearest',\n",
    "        rescale=1./255,\n",
    "        zoom_range=0.2,\n",
    "        horizontal_flip=True)\n",
    "\n",
    "## train generator\n",
    "train_generator_aug = train_datagen_aug.flow_from_directory(\n",
    "        train_path,\n",
    "        target_size=(224, 224),\n",
    "        batch_size=25,\n",
    "        class_mode='categorical')\n",
    "\n",
    "## test generator, required for prediction\n",
    "test_datagen = ImageDataGenerator(rescale=1./255)\n",
    "\n",
    "test_generator = test_datagen.flow_from_directory(\n",
    "        test_path,\n",
    "        target_size=(224, 224),\n",
    "        batch_size=1,\n",
    "        shuffle = False,\n",
    "        class_mode='categorical')\n",
    "\n",
    "## validation generator\n",
    "val_generator = test_datagen.flow_from_directory(\n",
    "        validation_path,\n",
    "        target_size=(224, 224),\n",
    "        batch_size=10,\n",
    "        class_mode='categorical')"
   ]
  },
  {
   "cell_type": "code",
   "execution_count": 6,
   "id": "a20ff9b5",
   "metadata": {
    "execution": {
     "iopub.execute_input": "2022-01-05T16:18:32.107356Z",
     "iopub.status.busy": "2022-01-05T16:18:32.106243Z",
     "iopub.status.idle": "2022-01-05T16:18:32.112535Z",
     "shell.execute_reply": "2022-01-05T16:18:32.113061Z",
     "shell.execute_reply.started": "2022-01-05T15:56:10.138549Z"
    },
    "papermill": {
     "duration": 0.027171,
     "end_time": "2022-01-05T16:18:32.113252",
     "exception": false,
     "start_time": "2022-01-05T16:18:32.086081",
     "status": "completed"
    },
    "tags": []
   },
   "outputs": [],
   "source": [
    "## set steps per epoch for train\n",
    "train_filenames = train_generator_aug.filenames\n",
    "steps_train = len(train_filenames)/train_generator_aug.batch_size\n",
    "\n",
    "## set steps per epoch for validation\n",
    "val_filenames = val_generator.filenames\n",
    "steps_val = len(val_filenames)/val_generator.batch_size\n",
    "\n",
    "## test\n",
    "filenames_test = test_generator.filenames\n",
    "nb_samples_test= len(filenames_test)\n",
    "true_classes = test_generator.classes\n",
    "target_names = veg_classes"
   ]
  },
  {
   "cell_type": "markdown",
   "id": "b357dbe0",
   "metadata": {
    "papermill": {
     "duration": 0.017216,
     "end_time": "2022-01-05T16:18:32.147792",
     "exception": false,
     "start_time": "2022-01-05T16:18:32.130576",
     "status": "completed"
    },
    "tags": []
   },
   "source": [
    "## Mobilenet with Augmentation and DropOut"
   ]
  },
  {
   "cell_type": "code",
   "execution_count": 7,
   "id": "bb9a8ff9",
   "metadata": {
    "execution": {
     "iopub.execute_input": "2022-01-05T16:18:32.205232Z",
     "iopub.status.busy": "2022-01-05T16:18:32.204542Z",
     "iopub.status.idle": "2022-01-05T16:18:37.360532Z",
     "shell.execute_reply": "2022-01-05T16:18:37.361451Z",
     "shell.execute_reply.started": "2022-01-05T15:56:10.145861Z"
    },
    "papermill": {
     "duration": 5.187184,
     "end_time": "2022-01-05T16:18:37.361747",
     "exception": false,
     "start_time": "2022-01-05T16:18:32.174563",
     "status": "completed"
    },
    "tags": []
   },
   "outputs": [
    {
     "name": "stderr",
     "output_type": "stream",
     "text": [
      "2022-01-05 16:18:32.305754: I tensorflow/stream_executor/cuda/cuda_gpu_executor.cc:937] successful NUMA node read from SysFS had negative value (-1), but there must be at least one NUMA node, so returning NUMA node zero\n",
      "2022-01-05 16:18:32.413665: I tensorflow/stream_executor/cuda/cuda_gpu_executor.cc:937] successful NUMA node read from SysFS had negative value (-1), but there must be at least one NUMA node, so returning NUMA node zero\n",
      "2022-01-05 16:18:32.414896: I tensorflow/stream_executor/cuda/cuda_gpu_executor.cc:937] successful NUMA node read from SysFS had negative value (-1), but there must be at least one NUMA node, so returning NUMA node zero\n",
      "2022-01-05 16:18:32.416686: I tensorflow/core/platform/cpu_feature_guard.cc:142] This TensorFlow binary is optimized with oneAPI Deep Neural Network Library (oneDNN) to use the following CPU instructions in performance-critical operations:  AVX2 FMA\n",
      "To enable them in other operations, rebuild TensorFlow with the appropriate compiler flags.\n",
      "2022-01-05 16:18:32.418119: I tensorflow/stream_executor/cuda/cuda_gpu_executor.cc:937] successful NUMA node read from SysFS had negative value (-1), but there must be at least one NUMA node, so returning NUMA node zero\n",
      "2022-01-05 16:18:32.419113: I tensorflow/stream_executor/cuda/cuda_gpu_executor.cc:937] successful NUMA node read from SysFS had negative value (-1), but there must be at least one NUMA node, so returning NUMA node zero\n",
      "2022-01-05 16:18:32.420075: I tensorflow/stream_executor/cuda/cuda_gpu_executor.cc:937] successful NUMA node read from SysFS had negative value (-1), but there must be at least one NUMA node, so returning NUMA node zero\n",
      "2022-01-05 16:18:34.619432: I tensorflow/stream_executor/cuda/cuda_gpu_executor.cc:937] successful NUMA node read from SysFS had negative value (-1), but there must be at least one NUMA node, so returning NUMA node zero\n",
      "2022-01-05 16:18:34.620599: I tensorflow/stream_executor/cuda/cuda_gpu_executor.cc:937] successful NUMA node read from SysFS had negative value (-1), but there must be at least one NUMA node, so returning NUMA node zero\n",
      "2022-01-05 16:18:34.621644: I tensorflow/stream_executor/cuda/cuda_gpu_executor.cc:937] successful NUMA node read from SysFS had negative value (-1), but there must be at least one NUMA node, so returning NUMA node zero\n",
      "2022-01-05 16:18:34.622653: I tensorflow/core/common_runtime/gpu/gpu_device.cc:1510] Created device /job:localhost/replica:0/task:0/device:GPU:0 with 15403 MB memory:  -> device: 0, name: Tesla P100-PCIE-16GB, pci bus id: 0000:00:04.0, compute capability: 6.0\n"
     ]
    },
    {
     "name": "stdout",
     "output_type": "stream",
     "text": [
      "Downloading data from https://storage.googleapis.com/tensorflow/keras-applications/mobilenet_v2/mobilenet_v2_weights_tf_dim_ordering_tf_kernels_1.0_224_no_top.h5\n",
      "9412608/9406464 [==============================] - 0s 0us/step\n",
      "9420800/9406464 [==============================] - 0s 0us/step\n",
      "Model: \"mobilenetv2_1.00_224\"\n",
      "__________________________________________________________________________________________________\n",
      "Layer (type)                    Output Shape         Param #     Connected to                     \n",
      "==================================================================================================\n",
      "input_1 (InputLayer)            [(None, 224, 224, 3) 0                                            \n",
      "__________________________________________________________________________________________________\n",
      "Conv1 (Conv2D)                  (None, 112, 112, 32) 864         input_1[0][0]                    \n",
      "__________________________________________________________________________________________________\n",
      "bn_Conv1 (BatchNormalization)   (None, 112, 112, 32) 128         Conv1[0][0]                      \n",
      "__________________________________________________________________________________________________\n",
      "Conv1_relu (ReLU)               (None, 112, 112, 32) 0           bn_Conv1[0][0]                   \n",
      "__________________________________________________________________________________________________\n",
      "expanded_conv_depthwise (Depthw (None, 112, 112, 32) 288         Conv1_relu[0][0]                 \n",
      "__________________________________________________________________________________________________\n",
      "expanded_conv_depthwise_BN (Bat (None, 112, 112, 32) 128         expanded_conv_depthwise[0][0]    \n",
      "__________________________________________________________________________________________________\n",
      "expanded_conv_depthwise_relu (R (None, 112, 112, 32) 0           expanded_conv_depthwise_BN[0][0] \n",
      "__________________________________________________________________________________________________\n",
      "expanded_conv_project (Conv2D)  (None, 112, 112, 16) 512         expanded_conv_depthwise_relu[0][0\n",
      "__________________________________________________________________________________________________\n",
      "expanded_conv_project_BN (Batch (None, 112, 112, 16) 64          expanded_conv_project[0][0]      \n",
      "__________________________________________________________________________________________________\n",
      "block_1_expand (Conv2D)         (None, 112, 112, 96) 1536        expanded_conv_project_BN[0][0]   \n",
      "__________________________________________________________________________________________________\n",
      "block_1_expand_BN (BatchNormali (None, 112, 112, 96) 384         block_1_expand[0][0]             \n",
      "__________________________________________________________________________________________________\n",
      "block_1_expand_relu (ReLU)      (None, 112, 112, 96) 0           block_1_expand_BN[0][0]          \n",
      "__________________________________________________________________________________________________\n",
      "block_1_pad (ZeroPadding2D)     (None, 113, 113, 96) 0           block_1_expand_relu[0][0]        \n",
      "__________________________________________________________________________________________________\n",
      "block_1_depthwise (DepthwiseCon (None, 56, 56, 96)   864         block_1_pad[0][0]                \n",
      "__________________________________________________________________________________________________\n",
      "block_1_depthwise_BN (BatchNorm (None, 56, 56, 96)   384         block_1_depthwise[0][0]          \n",
      "__________________________________________________________________________________________________\n",
      "block_1_depthwise_relu (ReLU)   (None, 56, 56, 96)   0           block_1_depthwise_BN[0][0]       \n",
      "__________________________________________________________________________________________________\n",
      "block_1_project (Conv2D)        (None, 56, 56, 24)   2304        block_1_depthwise_relu[0][0]     \n",
      "__________________________________________________________________________________________________\n",
      "block_1_project_BN (BatchNormal (None, 56, 56, 24)   96          block_1_project[0][0]            \n",
      "__________________________________________________________________________________________________\n",
      "block_2_expand (Conv2D)         (None, 56, 56, 144)  3456        block_1_project_BN[0][0]         \n",
      "__________________________________________________________________________________________________\n",
      "block_2_expand_BN (BatchNormali (None, 56, 56, 144)  576         block_2_expand[0][0]             \n",
      "__________________________________________________________________________________________________\n",
      "block_2_expand_relu (ReLU)      (None, 56, 56, 144)  0           block_2_expand_BN[0][0]          \n",
      "__________________________________________________________________________________________________\n",
      "block_2_depthwise (DepthwiseCon (None, 56, 56, 144)  1296        block_2_expand_relu[0][0]        \n",
      "__________________________________________________________________________________________________\n",
      "block_2_depthwise_BN (BatchNorm (None, 56, 56, 144)  576         block_2_depthwise[0][0]          \n",
      "__________________________________________________________________________________________________\n",
      "block_2_depthwise_relu (ReLU)   (None, 56, 56, 144)  0           block_2_depthwise_BN[0][0]       \n",
      "__________________________________________________________________________________________________\n",
      "block_2_project (Conv2D)        (None, 56, 56, 24)   3456        block_2_depthwise_relu[0][0]     \n",
      "__________________________________________________________________________________________________\n",
      "block_2_project_BN (BatchNormal (None, 56, 56, 24)   96          block_2_project[0][0]            \n",
      "__________________________________________________________________________________________________\n",
      "block_2_add (Add)               (None, 56, 56, 24)   0           block_1_project_BN[0][0]         \n",
      "                                                                 block_2_project_BN[0][0]         \n",
      "__________________________________________________________________________________________________\n",
      "block_3_expand (Conv2D)         (None, 56, 56, 144)  3456        block_2_add[0][0]                \n",
      "__________________________________________________________________________________________________\n",
      "block_3_expand_BN (BatchNormali (None, 56, 56, 144)  576         block_3_expand[0][0]             \n",
      "__________________________________________________________________________________________________\n",
      "block_3_expand_relu (ReLU)      (None, 56, 56, 144)  0           block_3_expand_BN[0][0]          \n",
      "__________________________________________________________________________________________________\n",
      "block_3_pad (ZeroPadding2D)     (None, 57, 57, 144)  0           block_3_expand_relu[0][0]        \n",
      "__________________________________________________________________________________________________\n",
      "block_3_depthwise (DepthwiseCon (None, 28, 28, 144)  1296        block_3_pad[0][0]                \n",
      "__________________________________________________________________________________________________\n",
      "block_3_depthwise_BN (BatchNorm (None, 28, 28, 144)  576         block_3_depthwise[0][0]          \n",
      "__________________________________________________________________________________________________\n",
      "block_3_depthwise_relu (ReLU)   (None, 28, 28, 144)  0           block_3_depthwise_BN[0][0]       \n",
      "__________________________________________________________________________________________________\n",
      "block_3_project (Conv2D)        (None, 28, 28, 32)   4608        block_3_depthwise_relu[0][0]     \n",
      "__________________________________________________________________________________________________\n",
      "block_3_project_BN (BatchNormal (None, 28, 28, 32)   128         block_3_project[0][0]            \n",
      "__________________________________________________________________________________________________\n",
      "block_4_expand (Conv2D)         (None, 28, 28, 192)  6144        block_3_project_BN[0][0]         \n",
      "__________________________________________________________________________________________________\n",
      "block_4_expand_BN (BatchNormali (None, 28, 28, 192)  768         block_4_expand[0][0]             \n",
      "__________________________________________________________________________________________________\n",
      "block_4_expand_relu (ReLU)      (None, 28, 28, 192)  0           block_4_expand_BN[0][0]          \n",
      "__________________________________________________________________________________________________\n",
      "block_4_depthwise (DepthwiseCon (None, 28, 28, 192)  1728        block_4_expand_relu[0][0]        \n",
      "__________________________________________________________________________________________________\n",
      "block_4_depthwise_BN (BatchNorm (None, 28, 28, 192)  768         block_4_depthwise[0][0]          \n",
      "__________________________________________________________________________________________________\n",
      "block_4_depthwise_relu (ReLU)   (None, 28, 28, 192)  0           block_4_depthwise_BN[0][0]       \n",
      "__________________________________________________________________________________________________\n",
      "block_4_project (Conv2D)        (None, 28, 28, 32)   6144        block_4_depthwise_relu[0][0]     \n",
      "__________________________________________________________________________________________________\n",
      "block_4_project_BN (BatchNormal (None, 28, 28, 32)   128         block_4_project[0][0]            \n",
      "__________________________________________________________________________________________________\n",
      "block_4_add (Add)               (None, 28, 28, 32)   0           block_3_project_BN[0][0]         \n",
      "                                                                 block_4_project_BN[0][0]         \n",
      "__________________________________________________________________________________________________\n",
      "block_5_expand (Conv2D)         (None, 28, 28, 192)  6144        block_4_add[0][0]                \n",
      "__________________________________________________________________________________________________\n",
      "block_5_expand_BN (BatchNormali (None, 28, 28, 192)  768         block_5_expand[0][0]             \n",
      "__________________________________________________________________________________________________\n",
      "block_5_expand_relu (ReLU)      (None, 28, 28, 192)  0           block_5_expand_BN[0][0]          \n",
      "__________________________________________________________________________________________________\n",
      "block_5_depthwise (DepthwiseCon (None, 28, 28, 192)  1728        block_5_expand_relu[0][0]        \n",
      "__________________________________________________________________________________________________\n",
      "block_5_depthwise_BN (BatchNorm (None, 28, 28, 192)  768         block_5_depthwise[0][0]          \n",
      "__________________________________________________________________________________________________\n",
      "block_5_depthwise_relu (ReLU)   (None, 28, 28, 192)  0           block_5_depthwise_BN[0][0]       \n",
      "__________________________________________________________________________________________________\n",
      "block_5_project (Conv2D)        (None, 28, 28, 32)   6144        block_5_depthwise_relu[0][0]     \n",
      "__________________________________________________________________________________________________\n",
      "block_5_project_BN (BatchNormal (None, 28, 28, 32)   128         block_5_project[0][0]            \n",
      "__________________________________________________________________________________________________\n",
      "block_5_add (Add)               (None, 28, 28, 32)   0           block_4_add[0][0]                \n",
      "                                                                 block_5_project_BN[0][0]         \n",
      "__________________________________________________________________________________________________\n",
      "block_6_expand (Conv2D)         (None, 28, 28, 192)  6144        block_5_add[0][0]                \n",
      "__________________________________________________________________________________________________\n",
      "block_6_expand_BN (BatchNormali (None, 28, 28, 192)  768         block_6_expand[0][0]             \n",
      "__________________________________________________________________________________________________\n",
      "block_6_expand_relu (ReLU)      (None, 28, 28, 192)  0           block_6_expand_BN[0][0]          \n",
      "__________________________________________________________________________________________________\n",
      "block_6_pad (ZeroPadding2D)     (None, 29, 29, 192)  0           block_6_expand_relu[0][0]        \n",
      "__________________________________________________________________________________________________\n",
      "block_6_depthwise (DepthwiseCon (None, 14, 14, 192)  1728        block_6_pad[0][0]                \n",
      "__________________________________________________________________________________________________\n",
      "block_6_depthwise_BN (BatchNorm (None, 14, 14, 192)  768         block_6_depthwise[0][0]          \n",
      "__________________________________________________________________________________________________\n",
      "block_6_depthwise_relu (ReLU)   (None, 14, 14, 192)  0           block_6_depthwise_BN[0][0]       \n",
      "__________________________________________________________________________________________________\n",
      "block_6_project (Conv2D)        (None, 14, 14, 64)   12288       block_6_depthwise_relu[0][0]     \n",
      "__________________________________________________________________________________________________\n",
      "block_6_project_BN (BatchNormal (None, 14, 14, 64)   256         block_6_project[0][0]            \n",
      "__________________________________________________________________________________________________\n",
      "block_7_expand (Conv2D)         (None, 14, 14, 384)  24576       block_6_project_BN[0][0]         \n",
      "__________________________________________________________________________________________________\n",
      "block_7_expand_BN (BatchNormali (None, 14, 14, 384)  1536        block_7_expand[0][0]             \n",
      "__________________________________________________________________________________________________\n",
      "block_7_expand_relu (ReLU)      (None, 14, 14, 384)  0           block_7_expand_BN[0][0]          \n",
      "__________________________________________________________________________________________________\n",
      "block_7_depthwise (DepthwiseCon (None, 14, 14, 384)  3456        block_7_expand_relu[0][0]        \n",
      "__________________________________________________________________________________________________\n",
      "block_7_depthwise_BN (BatchNorm (None, 14, 14, 384)  1536        block_7_depthwise[0][0]          \n",
      "__________________________________________________________________________________________________\n",
      "block_7_depthwise_relu (ReLU)   (None, 14, 14, 384)  0           block_7_depthwise_BN[0][0]       \n",
      "__________________________________________________________________________________________________\n",
      "block_7_project (Conv2D)        (None, 14, 14, 64)   24576       block_7_depthwise_relu[0][0]     \n",
      "__________________________________________________________________________________________________\n",
      "block_7_project_BN (BatchNormal (None, 14, 14, 64)   256         block_7_project[0][0]            \n",
      "__________________________________________________________________________________________________\n",
      "block_7_add (Add)               (None, 14, 14, 64)   0           block_6_project_BN[0][0]         \n",
      "                                                                 block_7_project_BN[0][0]         \n",
      "__________________________________________________________________________________________________\n",
      "block_8_expand (Conv2D)         (None, 14, 14, 384)  24576       block_7_add[0][0]                \n",
      "__________________________________________________________________________________________________\n",
      "block_8_expand_BN (BatchNormali (None, 14, 14, 384)  1536        block_8_expand[0][0]             \n",
      "__________________________________________________________________________________________________\n",
      "block_8_expand_relu (ReLU)      (None, 14, 14, 384)  0           block_8_expand_BN[0][0]          \n",
      "__________________________________________________________________________________________________\n",
      "block_8_depthwise (DepthwiseCon (None, 14, 14, 384)  3456        block_8_expand_relu[0][0]        \n",
      "__________________________________________________________________________________________________\n",
      "block_8_depthwise_BN (BatchNorm (None, 14, 14, 384)  1536        block_8_depthwise[0][0]          \n",
      "__________________________________________________________________________________________________\n",
      "block_8_depthwise_relu (ReLU)   (None, 14, 14, 384)  0           block_8_depthwise_BN[0][0]       \n",
      "__________________________________________________________________________________________________\n",
      "block_8_project (Conv2D)        (None, 14, 14, 64)   24576       block_8_depthwise_relu[0][0]     \n",
      "__________________________________________________________________________________________________\n",
      "block_8_project_BN (BatchNormal (None, 14, 14, 64)   256         block_8_project[0][0]            \n",
      "__________________________________________________________________________________________________\n",
      "block_8_add (Add)               (None, 14, 14, 64)   0           block_7_add[0][0]                \n",
      "                                                                 block_8_project_BN[0][0]         \n",
      "__________________________________________________________________________________________________\n",
      "block_9_expand (Conv2D)         (None, 14, 14, 384)  24576       block_8_add[0][0]                \n",
      "__________________________________________________________________________________________________\n",
      "block_9_expand_BN (BatchNormali (None, 14, 14, 384)  1536        block_9_expand[0][0]             \n",
      "__________________________________________________________________________________________________\n",
      "block_9_expand_relu (ReLU)      (None, 14, 14, 384)  0           block_9_expand_BN[0][0]          \n",
      "__________________________________________________________________________________________________\n",
      "block_9_depthwise (DepthwiseCon (None, 14, 14, 384)  3456        block_9_expand_relu[0][0]        \n",
      "__________________________________________________________________________________________________\n",
      "block_9_depthwise_BN (BatchNorm (None, 14, 14, 384)  1536        block_9_depthwise[0][0]          \n",
      "__________________________________________________________________________________________________\n",
      "block_9_depthwise_relu (ReLU)   (None, 14, 14, 384)  0           block_9_depthwise_BN[0][0]       \n",
      "__________________________________________________________________________________________________\n",
      "block_9_project (Conv2D)        (None, 14, 14, 64)   24576       block_9_depthwise_relu[0][0]     \n",
      "__________________________________________________________________________________________________\n",
      "block_9_project_BN (BatchNormal (None, 14, 14, 64)   256         block_9_project[0][0]            \n",
      "__________________________________________________________________________________________________\n",
      "block_9_add (Add)               (None, 14, 14, 64)   0           block_8_add[0][0]                \n",
      "                                                                 block_9_project_BN[0][0]         \n",
      "__________________________________________________________________________________________________\n",
      "block_10_expand (Conv2D)        (None, 14, 14, 384)  24576       block_9_add[0][0]                \n",
      "__________________________________________________________________________________________________\n",
      "block_10_expand_BN (BatchNormal (None, 14, 14, 384)  1536        block_10_expand[0][0]            \n",
      "__________________________________________________________________________________________________\n",
      "block_10_expand_relu (ReLU)     (None, 14, 14, 384)  0           block_10_expand_BN[0][0]         \n",
      "__________________________________________________________________________________________________\n",
      "block_10_depthwise (DepthwiseCo (None, 14, 14, 384)  3456        block_10_expand_relu[0][0]       \n",
      "__________________________________________________________________________________________________\n",
      "block_10_depthwise_BN (BatchNor (None, 14, 14, 384)  1536        block_10_depthwise[0][0]         \n",
      "__________________________________________________________________________________________________\n",
      "block_10_depthwise_relu (ReLU)  (None, 14, 14, 384)  0           block_10_depthwise_BN[0][0]      \n",
      "__________________________________________________________________________________________________\n",
      "block_10_project (Conv2D)       (None, 14, 14, 96)   36864       block_10_depthwise_relu[0][0]    \n",
      "__________________________________________________________________________________________________\n",
      "block_10_project_BN (BatchNorma (None, 14, 14, 96)   384         block_10_project[0][0]           \n",
      "__________________________________________________________________________________________________\n",
      "block_11_expand (Conv2D)        (None, 14, 14, 576)  55296       block_10_project_BN[0][0]        \n",
      "__________________________________________________________________________________________________\n",
      "block_11_expand_BN (BatchNormal (None, 14, 14, 576)  2304        block_11_expand[0][0]            \n",
      "__________________________________________________________________________________________________\n",
      "block_11_expand_relu (ReLU)     (None, 14, 14, 576)  0           block_11_expand_BN[0][0]         \n",
      "__________________________________________________________________________________________________\n",
      "block_11_depthwise (DepthwiseCo (None, 14, 14, 576)  5184        block_11_expand_relu[0][0]       \n",
      "__________________________________________________________________________________________________\n",
      "block_11_depthwise_BN (BatchNor (None, 14, 14, 576)  2304        block_11_depthwise[0][0]         \n",
      "__________________________________________________________________________________________________\n",
      "block_11_depthwise_relu (ReLU)  (None, 14, 14, 576)  0           block_11_depthwise_BN[0][0]      \n",
      "__________________________________________________________________________________________________\n",
      "block_11_project (Conv2D)       (None, 14, 14, 96)   55296       block_11_depthwise_relu[0][0]    \n",
      "__________________________________________________________________________________________________\n",
      "block_11_project_BN (BatchNorma (None, 14, 14, 96)   384         block_11_project[0][0]           \n",
      "__________________________________________________________________________________________________\n",
      "block_11_add (Add)              (None, 14, 14, 96)   0           block_10_project_BN[0][0]        \n",
      "                                                                 block_11_project_BN[0][0]        \n",
      "__________________________________________________________________________________________________\n",
      "block_12_expand (Conv2D)        (None, 14, 14, 576)  55296       block_11_add[0][0]               \n",
      "__________________________________________________________________________________________________\n",
      "block_12_expand_BN (BatchNormal (None, 14, 14, 576)  2304        block_12_expand[0][0]            \n",
      "__________________________________________________________________________________________________\n",
      "block_12_expand_relu (ReLU)     (None, 14, 14, 576)  0           block_12_expand_BN[0][0]         \n",
      "__________________________________________________________________________________________________\n",
      "block_12_depthwise (DepthwiseCo (None, 14, 14, 576)  5184        block_12_expand_relu[0][0]       \n",
      "__________________________________________________________________________________________________\n",
      "block_12_depthwise_BN (BatchNor (None, 14, 14, 576)  2304        block_12_depthwise[0][0]         \n",
      "__________________________________________________________________________________________________\n",
      "block_12_depthwise_relu (ReLU)  (None, 14, 14, 576)  0           block_12_depthwise_BN[0][0]      \n",
      "__________________________________________________________________________________________________\n",
      "block_12_project (Conv2D)       (None, 14, 14, 96)   55296       block_12_depthwise_relu[0][0]    \n",
      "__________________________________________________________________________________________________\n",
      "block_12_project_BN (BatchNorma (None, 14, 14, 96)   384         block_12_project[0][0]           \n",
      "__________________________________________________________________________________________________\n",
      "block_12_add (Add)              (None, 14, 14, 96)   0           block_11_add[0][0]               \n",
      "                                                                 block_12_project_BN[0][0]        \n",
      "__________________________________________________________________________________________________\n",
      "block_13_expand (Conv2D)        (None, 14, 14, 576)  55296       block_12_add[0][0]               \n",
      "__________________________________________________________________________________________________\n",
      "block_13_expand_BN (BatchNormal (None, 14, 14, 576)  2304        block_13_expand[0][0]            \n",
      "__________________________________________________________________________________________________\n",
      "block_13_expand_relu (ReLU)     (None, 14, 14, 576)  0           block_13_expand_BN[0][0]         \n",
      "__________________________________________________________________________________________________\n",
      "block_13_pad (ZeroPadding2D)    (None, 15, 15, 576)  0           block_13_expand_relu[0][0]       \n",
      "__________________________________________________________________________________________________\n",
      "block_13_depthwise (DepthwiseCo (None, 7, 7, 576)    5184        block_13_pad[0][0]               \n",
      "__________________________________________________________________________________________________\n",
      "block_13_depthwise_BN (BatchNor (None, 7, 7, 576)    2304        block_13_depthwise[0][0]         \n",
      "__________________________________________________________________________________________________\n",
      "block_13_depthwise_relu (ReLU)  (None, 7, 7, 576)    0           block_13_depthwise_BN[0][0]      \n",
      "__________________________________________________________________________________________________\n",
      "block_13_project (Conv2D)       (None, 7, 7, 160)    92160       block_13_depthwise_relu[0][0]    \n",
      "__________________________________________________________________________________________________\n",
      "block_13_project_BN (BatchNorma (None, 7, 7, 160)    640         block_13_project[0][0]           \n",
      "__________________________________________________________________________________________________\n",
      "block_14_expand (Conv2D)        (None, 7, 7, 960)    153600      block_13_project_BN[0][0]        \n",
      "__________________________________________________________________________________________________\n",
      "block_14_expand_BN (BatchNormal (None, 7, 7, 960)    3840        block_14_expand[0][0]            \n",
      "__________________________________________________________________________________________________\n",
      "block_14_expand_relu (ReLU)     (None, 7, 7, 960)    0           block_14_expand_BN[0][0]         \n",
      "__________________________________________________________________________________________________\n",
      "block_14_depthwise (DepthwiseCo (None, 7, 7, 960)    8640        block_14_expand_relu[0][0]       \n",
      "__________________________________________________________________________________________________\n",
      "block_14_depthwise_BN (BatchNor (None, 7, 7, 960)    3840        block_14_depthwise[0][0]         \n",
      "__________________________________________________________________________________________________\n",
      "block_14_depthwise_relu (ReLU)  (None, 7, 7, 960)    0           block_14_depthwise_BN[0][0]      \n",
      "__________________________________________________________________________________________________\n",
      "block_14_project (Conv2D)       (None, 7, 7, 160)    153600      block_14_depthwise_relu[0][0]    \n",
      "__________________________________________________________________________________________________\n",
      "block_14_project_BN (BatchNorma (None, 7, 7, 160)    640         block_14_project[0][0]           \n",
      "__________________________________________________________________________________________________\n",
      "block_14_add (Add)              (None, 7, 7, 160)    0           block_13_project_BN[0][0]        \n",
      "                                                                 block_14_project_BN[0][0]        \n",
      "__________________________________________________________________________________________________\n",
      "block_15_expand (Conv2D)        (None, 7, 7, 960)    153600      block_14_add[0][0]               \n",
      "__________________________________________________________________________________________________\n",
      "block_15_expand_BN (BatchNormal (None, 7, 7, 960)    3840        block_15_expand[0][0]            \n",
      "__________________________________________________________________________________________________\n",
      "block_15_expand_relu (ReLU)     (None, 7, 7, 960)    0           block_15_expand_BN[0][0]         \n",
      "__________________________________________________________________________________________________\n",
      "block_15_depthwise (DepthwiseCo (None, 7, 7, 960)    8640        block_15_expand_relu[0][0]       \n",
      "__________________________________________________________________________________________________\n",
      "block_15_depthwise_BN (BatchNor (None, 7, 7, 960)    3840        block_15_depthwise[0][0]         \n",
      "__________________________________________________________________________________________________\n",
      "block_15_depthwise_relu (ReLU)  (None, 7, 7, 960)    0           block_15_depthwise_BN[0][0]      \n",
      "__________________________________________________________________________________________________\n",
      "block_15_project (Conv2D)       (None, 7, 7, 160)    153600      block_15_depthwise_relu[0][0]    \n",
      "__________________________________________________________________________________________________\n",
      "block_15_project_BN (BatchNorma (None, 7, 7, 160)    640         block_15_project[0][0]           \n",
      "__________________________________________________________________________________________________\n",
      "block_15_add (Add)              (None, 7, 7, 160)    0           block_14_add[0][0]               \n",
      "                                                                 block_15_project_BN[0][0]        \n",
      "__________________________________________________________________________________________________\n",
      "block_16_expand (Conv2D)        (None, 7, 7, 960)    153600      block_15_add[0][0]               \n",
      "__________________________________________________________________________________________________\n",
      "block_16_expand_BN (BatchNormal (None, 7, 7, 960)    3840        block_16_expand[0][0]            \n",
      "__________________________________________________________________________________________________\n",
      "block_16_expand_relu (ReLU)     (None, 7, 7, 960)    0           block_16_expand_BN[0][0]         \n",
      "__________________________________________________________________________________________________\n",
      "block_16_depthwise (DepthwiseCo (None, 7, 7, 960)    8640        block_16_expand_relu[0][0]       \n",
      "__________________________________________________________________________________________________\n",
      "block_16_depthwise_BN (BatchNor (None, 7, 7, 960)    3840        block_16_depthwise[0][0]         \n",
      "__________________________________________________________________________________________________\n",
      "block_16_depthwise_relu (ReLU)  (None, 7, 7, 960)    0           block_16_depthwise_BN[0][0]      \n",
      "__________________________________________________________________________________________________\n",
      "block_16_project (Conv2D)       (None, 7, 7, 320)    307200      block_16_depthwise_relu[0][0]    \n",
      "__________________________________________________________________________________________________\n",
      "block_16_project_BN (BatchNorma (None, 7, 7, 320)    1280        block_16_project[0][0]           \n",
      "__________________________________________________________________________________________________\n",
      "Conv_1 (Conv2D)                 (None, 7, 7, 1280)   409600      block_16_project_BN[0][0]        \n",
      "__________________________________________________________________________________________________\n",
      "Conv_1_bn (BatchNormalization)  (None, 7, 7, 1280)   5120        Conv_1[0][0]                     \n",
      "__________________________________________________________________________________________________\n",
      "out_relu (ReLU)                 (None, 7, 7, 1280)   0           Conv_1_bn[0][0]                  \n",
      "==================================================================================================\n",
      "Total params: 2,257,984\n",
      "Trainable params: 2,223,872\n",
      "Non-trainable params: 34,112\n",
      "__________________________________________________________________________________________________\n"
     ]
    }
   ],
   "source": [
    "model_mobilenet = tf.keras.applications.mobilenet_v2.MobileNetV2(weights='imagenet',include_top=False, input_shape=(224, 224, 3)) \n",
    "\n",
    "model_mobilenet.summary()\n",
    "model_mobilenet.trainable = False"
   ]
  },
  {
   "cell_type": "code",
   "execution_count": 8,
   "id": "44c155f7",
   "metadata": {
    "execution": {
     "iopub.execute_input": "2022-01-05T16:18:37.414690Z",
     "iopub.status.busy": "2022-01-05T16:18:37.413595Z",
     "iopub.status.idle": "2022-01-05T16:18:37.860579Z",
     "shell.execute_reply": "2022-01-05T16:18:37.859505Z",
     "shell.execute_reply.started": "2022-01-05T15:56:11.141774Z"
    },
    "papermill": {
     "duration": 0.476065,
     "end_time": "2022-01-05T16:18:37.860796",
     "exception": false,
     "start_time": "2022-01-05T16:18:37.384731",
     "status": "completed"
    },
    "tags": []
   },
   "outputs": [
    {
     "name": "stdout",
     "output_type": "stream",
     "text": [
      "Model: \"sequential\"\n",
      "_________________________________________________________________\n",
      "Layer (type)                 Output Shape              Param #   \n",
      "=================================================================\n",
      "mobilenetv2_1.00_224 (Functi (None, 7, 7, 1280)        2257984   \n",
      "_________________________________________________________________\n",
      "global_average_pooling2d (Gl (None, 1280)              0         \n",
      "_________________________________________________________________\n",
      "dropout (Dropout)            (None, 1280)              0         \n",
      "_________________________________________________________________\n",
      "dense (Dense)                (None, 22)                28182     \n",
      "=================================================================\n",
      "Total params: 2,286,166\n",
      "Trainable params: 28,182\n",
      "Non-trainable params: 2,257,984\n",
      "_________________________________________________________________\n"
     ]
    }
   ],
   "source": [
    "veg_mobilenet = Sequential()\n",
    "veg_mobilenet.add(model_mobilenet)\n",
    "veg_mobilenet.add(GlobalAveragePooling2D())\n",
    "veg_mobilenet.add(Dropout(0.4))\n",
    "veg_mobilenet.add(Dense(22, activation='softmax'))\n",
    "veg_mobilenet.summary()"
   ]
  },
  {
   "cell_type": "code",
   "execution_count": 9,
   "id": "f5f6fd18",
   "metadata": {
    "execution": {
     "iopub.execute_input": "2022-01-05T16:18:37.920122Z",
     "iopub.status.busy": "2022-01-05T16:18:37.918157Z",
     "iopub.status.idle": "2022-01-05T16:41:18.036481Z",
     "shell.execute_reply": "2022-01-05T16:41:18.037294Z",
     "shell.execute_reply.started": "2022-01-05T15:56:11.476806Z"
    },
    "papermill": {
     "duration": 1360.154311,
     "end_time": "2022-01-05T16:41:18.037560",
     "exception": false,
     "start_time": "2022-01-05T16:18:37.883249",
     "status": "completed"
    },
    "tags": []
   },
   "outputs": [
    {
     "name": "stderr",
     "output_type": "stream",
     "text": [
      "2022-01-05 16:18:38.488367: I tensorflow/compiler/mlir/mlir_graph_optimization_pass.cc:185] None of the MLIR Optimization Passes are enabled (registered 2)\n"
     ]
    },
    {
     "name": "stdout",
     "output_type": "stream",
     "text": [
      "Epoch 1/100\n"
     ]
    },
    {
     "name": "stderr",
     "output_type": "stream",
     "text": [
      "2022-01-05 16:18:42.934590: I tensorflow/stream_executor/cuda/cuda_dnn.cc:369] Loaded cuDNN version 8005\n"
     ]
    },
    {
     "name": "stdout",
     "output_type": "stream",
     "text": [
      "36/36 [==============================] - 27s 497ms/step - loss: 2.6195 - acc: 0.2724 - val_loss: 1.3024 - val_acc: 0.6230\n",
      "Epoch 2/100\n",
      "36/36 [==============================] - 13s 366ms/step - loss: 1.1061 - acc: 0.6656 - val_loss: 0.7530 - val_acc: 0.7787\n",
      "Epoch 3/100\n",
      "36/36 [==============================] - 13s 352ms/step - loss: 0.7613 - acc: 0.7608 - val_loss: 0.6019 - val_acc: 0.8115\n",
      "Epoch 4/100\n",
      "36/36 [==============================] - 13s 371ms/step - loss: 0.5527 - acc: 0.8405 - val_loss: 0.4612 - val_acc: 0.8689\n",
      "Epoch 5/100\n",
      "36/36 [==============================] - 13s 347ms/step - loss: 0.4749 - acc: 0.8416 - val_loss: 0.4011 - val_acc: 0.8770\n",
      "Epoch 6/100\n",
      "36/36 [==============================] - 13s 348ms/step - loss: 0.3548 - acc: 0.9003 - val_loss: 0.3713 - val_acc: 0.8607\n",
      "Epoch 7/100\n",
      "36/36 [==============================] - 13s 365ms/step - loss: 0.3309 - acc: 0.8992 - val_loss: 0.3264 - val_acc: 0.8852\n",
      "Epoch 8/100\n",
      "36/36 [==============================] - 13s 362ms/step - loss: 0.2953 - acc: 0.9203 - val_loss: 0.3317 - val_acc: 0.8934\n",
      "Epoch 9/100\n",
      "36/36 [==============================] - 13s 371ms/step - loss: 0.2595 - acc: 0.9291 - val_loss: 0.3439 - val_acc: 0.8852\n",
      "Epoch 10/100\n",
      "36/36 [==============================] - 13s 352ms/step - loss: 0.2529 - acc: 0.9225 - val_loss: 0.2813 - val_acc: 0.9098\n",
      "Epoch 11/100\n",
      "36/36 [==============================] - 13s 356ms/step - loss: 0.2117 - acc: 0.9491 - val_loss: 0.2835 - val_acc: 0.9016\n",
      "Epoch 12/100\n",
      "36/36 [==============================] - 13s 368ms/step - loss: 0.2426 - acc: 0.9158 - val_loss: 0.2693 - val_acc: 0.9098\n",
      "Epoch 13/100\n",
      "36/36 [==============================] - 13s 360ms/step - loss: 0.1883 - acc: 0.9480 - val_loss: 0.2503 - val_acc: 0.8934\n",
      "Epoch 14/100\n",
      "36/36 [==============================] - 13s 370ms/step - loss: 0.1853 - acc: 0.9468 - val_loss: 0.2736 - val_acc: 0.9098\n",
      "Epoch 15/100\n",
      "36/36 [==============================] - 13s 360ms/step - loss: 0.1793 - acc: 0.9524 - val_loss: 0.2308 - val_acc: 0.9180\n",
      "Epoch 16/100\n",
      "36/36 [==============================] - 13s 361ms/step - loss: 0.1842 - acc: 0.9424 - val_loss: 0.1979 - val_acc: 0.9180\n",
      "Epoch 17/100\n",
      "36/36 [==============================] - 13s 351ms/step - loss: 0.1414 - acc: 0.9668 - val_loss: 0.2261 - val_acc: 0.9016\n",
      "Epoch 18/100\n",
      "36/36 [==============================] - 12s 345ms/step - loss: 0.1603 - acc: 0.9568 - val_loss: 0.2160 - val_acc: 0.9098\n",
      "Epoch 19/100\n",
      "36/36 [==============================] - 13s 368ms/step - loss: 0.1455 - acc: 0.9557 - val_loss: 0.2244 - val_acc: 0.9016\n",
      "Epoch 20/100\n",
      "36/36 [==============================] - 13s 356ms/step - loss: 0.1368 - acc: 0.9657 - val_loss: 0.1733 - val_acc: 0.9180\n",
      "Epoch 21/100\n",
      "36/36 [==============================] - 14s 378ms/step - loss: 0.1293 - acc: 0.9635 - val_loss: 0.1591 - val_acc: 0.9262\n",
      "Epoch 22/100\n",
      "36/36 [==============================] - 13s 357ms/step - loss: 0.1169 - acc: 0.9701 - val_loss: 0.1651 - val_acc: 0.9344\n",
      "Epoch 23/100\n",
      "36/36 [==============================] - 13s 346ms/step - loss: 0.1152 - acc: 0.9612 - val_loss: 0.1823 - val_acc: 0.9262\n",
      "Epoch 24/100\n",
      "36/36 [==============================] - 13s 367ms/step - loss: 0.1161 - acc: 0.9657 - val_loss: 0.1361 - val_acc: 0.9426\n",
      "Epoch 25/100\n",
      "36/36 [==============================] - 13s 354ms/step - loss: 0.1204 - acc: 0.9612 - val_loss: 0.1661 - val_acc: 0.9262\n",
      "Epoch 26/100\n",
      "36/36 [==============================] - 13s 371ms/step - loss: 0.0951 - acc: 0.9745 - val_loss: 0.1554 - val_acc: 0.9344\n",
      "Epoch 27/100\n",
      "36/36 [==============================] - 13s 361ms/step - loss: 0.1006 - acc: 0.9701 - val_loss: 0.1672 - val_acc: 0.9344\n",
      "Epoch 28/100\n",
      "36/36 [==============================] - 13s 348ms/step - loss: 0.0921 - acc: 0.9745 - val_loss: 0.1661 - val_acc: 0.9426\n",
      "Epoch 29/100\n",
      "36/36 [==============================] - 14s 379ms/step - loss: 0.1006 - acc: 0.9679 - val_loss: 0.1675 - val_acc: 0.9508\n",
      "Epoch 30/100\n",
      "36/36 [==============================] - 13s 353ms/step - loss: 0.0911 - acc: 0.9712 - val_loss: 0.1610 - val_acc: 0.9262\n",
      "Epoch 31/100\n",
      "36/36 [==============================] - 13s 364ms/step - loss: 0.1282 - acc: 0.9623 - val_loss: 0.1660 - val_acc: 0.9262\n",
      "Epoch 32/100\n",
      "36/36 [==============================] - 13s 359ms/step - loss: 0.0993 - acc: 0.9723 - val_loss: 0.1570 - val_acc: 0.9180\n",
      "Epoch 33/100\n",
      "36/36 [==============================] - 13s 373ms/step - loss: 0.0894 - acc: 0.9745 - val_loss: 0.1688 - val_acc: 0.9344\n",
      "Epoch 34/100\n",
      "36/36 [==============================] - 13s 355ms/step - loss: 0.0755 - acc: 0.9767 - val_loss: 0.1753 - val_acc: 0.9426\n",
      "Epoch 35/100\n",
      "36/36 [==============================] - 14s 376ms/step - loss: 0.0770 - acc: 0.9801 - val_loss: 0.1809 - val_acc: 0.9344\n",
      "Epoch 36/100\n",
      "36/36 [==============================] - 13s 359ms/step - loss: 0.0952 - acc: 0.9756 - val_loss: 0.1651 - val_acc: 0.9344\n",
      "Epoch 37/100\n",
      "36/36 [==============================] - 13s 356ms/step - loss: 0.0876 - acc: 0.9790 - val_loss: 0.1459 - val_acc: 0.9262\n",
      "Epoch 38/100\n",
      "36/36 [==============================] - 14s 379ms/step - loss: 0.0803 - acc: 0.9823 - val_loss: 0.1604 - val_acc: 0.9180\n",
      "Epoch 39/100\n",
      "36/36 [==============================] - 13s 346ms/step - loss: 0.0792 - acc: 0.9790 - val_loss: 0.1412 - val_acc: 0.9426\n",
      "Epoch 40/100\n",
      "36/36 [==============================] - 14s 376ms/step - loss: 0.0632 - acc: 0.9790 - val_loss: 0.1368 - val_acc: 0.9508\n",
      "Epoch 41/100\n",
      "36/36 [==============================] - 13s 364ms/step - loss: 0.0704 - acc: 0.9801 - val_loss: 0.1410 - val_acc: 0.9426\n",
      "Epoch 42/100\n",
      "36/36 [==============================] - 13s 347ms/step - loss: 0.0683 - acc: 0.9834 - val_loss: 0.1247 - val_acc: 0.9426\n",
      "Epoch 43/100\n",
      "36/36 [==============================] - 14s 381ms/step - loss: 0.0558 - acc: 0.9856 - val_loss: 0.1257 - val_acc: 0.9590\n",
      "Epoch 44/100\n",
      "36/36 [==============================] - 13s 351ms/step - loss: 0.0640 - acc: 0.9834 - val_loss: 0.1168 - val_acc: 0.9672\n",
      "Epoch 45/100\n",
      "36/36 [==============================] - 14s 390ms/step - loss: 0.0572 - acc: 0.9834 - val_loss: 0.1244 - val_acc: 0.9426\n",
      "Epoch 46/100\n",
      "36/36 [==============================] - 13s 348ms/step - loss: 0.0759 - acc: 0.9790 - val_loss: 0.1671 - val_acc: 0.9426\n",
      "Epoch 47/100\n",
      "36/36 [==============================] - 12s 344ms/step - loss: 0.0749 - acc: 0.9767 - val_loss: 0.1312 - val_acc: 0.9262\n",
      "Epoch 48/100\n",
      "36/36 [==============================] - 14s 376ms/step - loss: 0.0767 - acc: 0.9712 - val_loss: 0.1439 - val_acc: 0.9590\n",
      "Epoch 49/100\n",
      "36/36 [==============================] - 13s 356ms/step - loss: 0.0580 - acc: 0.9812 - val_loss: 0.1234 - val_acc: 0.9508\n",
      "Epoch 50/100\n",
      "36/36 [==============================] - 14s 387ms/step - loss: 0.0436 - acc: 0.9922 - val_loss: 0.1338 - val_acc: 0.9426\n",
      "Epoch 51/100\n",
      "36/36 [==============================] - 13s 347ms/step - loss: 0.0656 - acc: 0.9779 - val_loss: 0.1385 - val_acc: 0.9508\n",
      "Epoch 52/100\n",
      "36/36 [==============================] - 12s 346ms/step - loss: 0.0625 - acc: 0.9845 - val_loss: 0.1266 - val_acc: 0.9344\n",
      "Epoch 53/100\n",
      "36/36 [==============================] - 14s 372ms/step - loss: 0.0579 - acc: 0.9790 - val_loss: 0.1462 - val_acc: 0.9426\n",
      "Epoch 54/100\n",
      "36/36 [==============================] - 13s 348ms/step - loss: 0.0492 - acc: 0.9878 - val_loss: 0.1237 - val_acc: 0.9426\n",
      "Epoch 55/100\n",
      "36/36 [==============================] - 14s 378ms/step - loss: 0.0558 - acc: 0.9834 - val_loss: 0.1380 - val_acc: 0.9508\n",
      "Epoch 56/100\n",
      "36/36 [==============================] - 13s 363ms/step - loss: 0.0551 - acc: 0.9834 - val_loss: 0.1264 - val_acc: 0.9508\n",
      "Epoch 57/100\n",
      "36/36 [==============================] - 13s 362ms/step - loss: 0.0489 - acc: 0.9889 - val_loss: 0.1312 - val_acc: 0.9508\n",
      "Epoch 58/100\n",
      "36/36 [==============================] - 13s 358ms/step - loss: 0.0606 - acc: 0.9834 - val_loss: 0.1338 - val_acc: 0.9426\n",
      "Epoch 59/100\n",
      "36/36 [==============================] - 13s 347ms/step - loss: 0.0563 - acc: 0.9834 - val_loss: 0.1397 - val_acc: 0.9426\n",
      "Epoch 60/100\n",
      "36/36 [==============================] - 13s 357ms/step - loss: 0.0629 - acc: 0.9801 - val_loss: 0.1056 - val_acc: 0.9426\n",
      "Epoch 61/100\n",
      "36/36 [==============================] - 13s 369ms/step - loss: 0.0662 - acc: 0.9812 - val_loss: 0.1627 - val_acc: 0.9426\n",
      "Epoch 62/100\n",
      "36/36 [==============================] - 13s 361ms/step - loss: 0.0592 - acc: 0.9801 - val_loss: 0.1313 - val_acc: 0.9672\n",
      "Epoch 63/100\n",
      "36/36 [==============================] - 13s 360ms/step - loss: 0.0523 - acc: 0.9812 - val_loss: 0.1366 - val_acc: 0.9590\n",
      "Epoch 64/100\n",
      "36/36 [==============================] - 12s 343ms/step - loss: 0.0430 - acc: 0.9900 - val_loss: 0.1425 - val_acc: 0.9344\n",
      "Epoch 65/100\n",
      "36/36 [==============================] - 13s 369ms/step - loss: 0.0608 - acc: 0.9779 - val_loss: 0.1509 - val_acc: 0.9344\n",
      "Epoch 66/100\n",
      "36/36 [==============================] - 13s 367ms/step - loss: 0.0477 - acc: 0.9856 - val_loss: 0.1080 - val_acc: 0.9672\n",
      "Epoch 67/100\n",
      "36/36 [==============================] - 13s 363ms/step - loss: 0.0407 - acc: 0.9900 - val_loss: 0.1271 - val_acc: 0.9508\n",
      "Epoch 68/100\n",
      "36/36 [==============================] - 13s 357ms/step - loss: 0.0536 - acc: 0.9823 - val_loss: 0.0839 - val_acc: 0.9754\n",
      "Epoch 69/100\n",
      "36/36 [==============================] - 13s 352ms/step - loss: 0.0478 - acc: 0.9856 - val_loss: 0.1053 - val_acc: 0.9672\n",
      "Epoch 70/100\n",
      "36/36 [==============================] - 13s 344ms/step - loss: 0.0435 - acc: 0.9889 - val_loss: 0.1012 - val_acc: 0.9590\n",
      "Epoch 71/100\n",
      "36/36 [==============================] - 13s 359ms/step - loss: 0.0514 - acc: 0.9812 - val_loss: 0.1186 - val_acc: 0.9426\n",
      "Epoch 72/100\n",
      "36/36 [==============================] - 13s 373ms/step - loss: 0.0441 - acc: 0.9867 - val_loss: 0.1037 - val_acc: 0.9508\n",
      "Epoch 73/100\n",
      "36/36 [==============================] - 13s 365ms/step - loss: 0.0296 - acc: 0.9922 - val_loss: 0.1186 - val_acc: 0.9426\n",
      "Epoch 74/100\n",
      "36/36 [==============================] - 13s 371ms/step - loss: 0.0397 - acc: 0.9878 - val_loss: 0.1099 - val_acc: 0.9508\n",
      "Epoch 75/100\n",
      "36/36 [==============================] - 13s 350ms/step - loss: 0.0400 - acc: 0.9878 - val_loss: 0.1195 - val_acc: 0.9426\n",
      "Epoch 76/100\n",
      "36/36 [==============================] - 13s 364ms/step - loss: 0.0391 - acc: 0.9867 - val_loss: 0.1045 - val_acc: 0.9590\n",
      "Epoch 77/100\n",
      "36/36 [==============================] - 14s 378ms/step - loss: 0.0301 - acc: 0.9922 - val_loss: 0.1554 - val_acc: 0.9426\n",
      "Epoch 78/100\n",
      "36/36 [==============================] - 13s 365ms/step - loss: 0.0416 - acc: 0.9878 - val_loss: 0.1034 - val_acc: 0.9426\n",
      "Epoch 79/100\n",
      "36/36 [==============================] - 13s 362ms/step - loss: 0.0448 - acc: 0.9889 - val_loss: 0.1006 - val_acc: 0.9426\n",
      "Epoch 80/100\n",
      "36/36 [==============================] - 12s 344ms/step - loss: 0.0376 - acc: 0.9911 - val_loss: 0.1271 - val_acc: 0.9508\n",
      "Epoch 81/100\n",
      "36/36 [==============================] - 13s 381ms/step - loss: 0.0429 - acc: 0.9867 - val_loss: 0.1065 - val_acc: 0.9590\n",
      "Epoch 82/100\n",
      "36/36 [==============================] - 14s 380ms/step - loss: 0.0591 - acc: 0.9790 - val_loss: 0.1090 - val_acc: 0.9426\n",
      "Epoch 83/100\n",
      "36/36 [==============================] - 13s 352ms/step - loss: 0.0341 - acc: 0.9922 - val_loss: 0.1074 - val_acc: 0.9508\n",
      "Epoch 84/100\n",
      "36/36 [==============================] - 13s 364ms/step - loss: 0.0352 - acc: 0.9911 - val_loss: 0.1269 - val_acc: 0.9508\n",
      "Epoch 85/100\n",
      "36/36 [==============================] - 12s 340ms/step - loss: 0.0368 - acc: 0.9900 - val_loss: 0.0950 - val_acc: 0.9754\n",
      "Epoch 86/100\n",
      "36/36 [==============================] - 13s 357ms/step - loss: 0.0461 - acc: 0.9856 - val_loss: 0.1146 - val_acc: 0.9426\n",
      "Epoch 87/100\n",
      "36/36 [==============================] - 14s 379ms/step - loss: 0.0356 - acc: 0.9922 - val_loss: 0.0992 - val_acc: 0.9590\n",
      "Epoch 88/100\n",
      "36/36 [==============================] - 12s 339ms/step - loss: 0.0498 - acc: 0.9834 - val_loss: 0.0932 - val_acc: 0.9672\n",
      "Epoch 89/100\n",
      "36/36 [==============================] - 14s 379ms/step - loss: 0.0356 - acc: 0.9911 - val_loss: 0.0832 - val_acc: 0.9672\n",
      "Epoch 90/100\n",
      "36/36 [==============================] - 12s 340ms/step - loss: 0.0369 - acc: 0.9889 - val_loss: 0.0975 - val_acc: 0.9590\n",
      "Epoch 91/100\n",
      "36/36 [==============================] - 13s 353ms/step - loss: 0.0417 - acc: 0.9889 - val_loss: 0.1120 - val_acc: 0.9508\n",
      "Epoch 92/100\n",
      "36/36 [==============================] - 13s 366ms/step - loss: 0.0383 - acc: 0.9878 - val_loss: 0.0935 - val_acc: 0.9508\n",
      "Epoch 93/100\n",
      "36/36 [==============================] - 12s 345ms/step - loss: 0.0406 - acc: 0.9867 - val_loss: 0.0952 - val_acc: 0.9590\n",
      "Epoch 94/100\n",
      "36/36 [==============================] - 13s 364ms/step - loss: 0.0480 - acc: 0.9801 - val_loss: 0.1130 - val_acc: 0.9508\n",
      "Epoch 95/100\n",
      "36/36 [==============================] - 13s 347ms/step - loss: 0.0457 - acc: 0.9867 - val_loss: 0.0789 - val_acc: 0.9754\n",
      "Epoch 96/100\n",
      "36/36 [==============================] - 14s 372ms/step - loss: 0.0390 - acc: 0.9867 - val_loss: 0.1090 - val_acc: 0.9672\n",
      "Epoch 97/100\n",
      "36/36 [==============================] - 12s 339ms/step - loss: 0.0447 - acc: 0.9845 - val_loss: 0.0879 - val_acc: 0.9508\n",
      "Epoch 98/100\n",
      "36/36 [==============================] - 14s 382ms/step - loss: 0.0365 - acc: 0.9878 - val_loss: 0.1017 - val_acc: 0.9672\n",
      "Epoch 99/100\n",
      "36/36 [==============================] - 12s 337ms/step - loss: 0.0446 - acc: 0.9900 - val_loss: 0.0965 - val_acc: 0.9344\n",
      "Epoch 100/100\n",
      "36/36 [==============================] - 13s 370ms/step - loss: 0.0483 - acc: 0.9834 - val_loss: 0.1054 - val_acc: 0.9508\n"
     ]
    }
   ],
   "source": [
    "## compile model\n",
    "veg_mobilenet.compile(loss='categorical_crossentropy',\n",
    "              optimizer=optimizers.Adam(learning_rate=0.001),\n",
    "              metrics=['acc'])\n",
    "\n",
    "# Callbacks\n",
    "es = EarlyStopping(monitor='val_accuracy', min_delta=0.01,patience= 6, verbose=1)\n",
    "mc = ModelCheckpoint(\"./veg_best.h5\", monitor='val_accuracy', verbose=1, save_best_only=True)\n",
    "cb=[es, mc]\n",
    "\n",
    "## fit model\n",
    "fit_generator = veg_mobilenet.fit(train_generator_aug,\n",
    "                                  steps_per_epoch=steps_train,\n",
    "                                  epochs=100,\n",
    "                                  validation_data=val_generator,\n",
    "                                  validation_steps=steps_val,\n",
    "                                  verbose=1,\n",
    "                                  callbacks=cb)"
   ]
  },
  {
   "cell_type": "code",
   "execution_count": 10,
   "id": "27c40b6b",
   "metadata": {
    "execution": {
     "iopub.execute_input": "2022-01-05T16:41:20.891325Z",
     "iopub.status.busy": "2022-01-05T16:41:20.890292Z",
     "iopub.status.idle": "2022-01-05T16:41:21.204935Z",
     "shell.execute_reply": "2022-01-05T16:41:21.204251Z",
     "shell.execute_reply.started": "2022-01-05T16:15:44.927300Z"
    },
    "papermill": {
     "duration": 1.78794,
     "end_time": "2022-01-05T16:41:21.205129",
     "exception": false,
     "start_time": "2022-01-05T16:41:19.417189",
     "status": "completed"
    },
    "tags": []
   },
   "outputs": [
    {
     "name": "stderr",
     "output_type": "stream",
     "text": [
      "/opt/conda/lib/python3.7/site-packages/keras/utils/generic_utils.py:497: CustomMaskWarning: Custom mask layers require a config and must override get_config. When loading, the custom mask layer must be passed to the custom_objects argument.\n",
      "  category=CustomMaskWarning)\n"
     ]
    }
   ],
   "source": [
    "veg_mobilenet.save('veg_mobilenet.h5')"
   ]
  },
  {
   "cell_type": "code",
   "execution_count": 11,
   "id": "7ee26af5",
   "metadata": {
    "execution": {
     "iopub.execute_input": "2022-01-05T16:41:23.783969Z",
     "iopub.status.busy": "2022-01-05T16:41:23.782788Z",
     "iopub.status.idle": "2022-01-05T16:41:58.576924Z",
     "shell.execute_reply": "2022-01-05T16:41:58.577754Z",
     "shell.execute_reply.started": "2022-01-05T16:15:45.180189Z"
    },
    "papermill": {
     "duration": 36.080074,
     "end_time": "2022-01-05T16:41:58.577989",
     "exception": false,
     "start_time": "2022-01-05T16:41:22.497915",
     "status": "completed"
    },
    "tags": []
   },
   "outputs": [
    {
     "name": "stderr",
     "output_type": "stream",
     "text": [
      "2022-01-05 16:41:35.837023: W tensorflow/python/util/util.cc:348] Sets are not currently considered sequences, but this may change in the future, so consider avoiding using them.\n",
      "/opt/conda/lib/python3.7/site-packages/keras/utils/generic_utils.py:497: CustomMaskWarning: Custom mask layers require a config and must override get_config. When loading, the custom mask layer must be passed to the custom_objects argument.\n",
      "  category=CustomMaskWarning)\n",
      "2022-01-05 16:41:56.967973: I tensorflow/stream_executor/cuda/cuda_gpu_executor.cc:937] successful NUMA node read from SysFS had negative value (-1), but there must be at least one NUMA node, so returning NUMA node zero\n",
      "2022-01-05 16:41:56.968714: I tensorflow/core/grappler/devices.cc:66] Number of eligible GPUs (core count >= 8, compute capability >= 0.0): 1\n",
      "2022-01-05 16:41:56.968866: I tensorflow/core/grappler/clusters/single_machine.cc:357] Starting new session\n",
      "2022-01-05 16:41:56.969542: I tensorflow/stream_executor/cuda/cuda_gpu_executor.cc:937] successful NUMA node read from SysFS had negative value (-1), but there must be at least one NUMA node, so returning NUMA node zero\n",
      "2022-01-05 16:41:56.970189: I tensorflow/stream_executor/cuda/cuda_gpu_executor.cc:937] successful NUMA node read from SysFS had negative value (-1), but there must be at least one NUMA node, so returning NUMA node zero\n",
      "2022-01-05 16:41:56.970931: I tensorflow/stream_executor/cuda/cuda_gpu_executor.cc:937] successful NUMA node read from SysFS had negative value (-1), but there must be at least one NUMA node, so returning NUMA node zero\n",
      "2022-01-05 16:41:56.971902: I tensorflow/stream_executor/cuda/cuda_gpu_executor.cc:937] successful NUMA node read from SysFS had negative value (-1), but there must be at least one NUMA node, so returning NUMA node zero\n",
      "2022-01-05 16:41:56.972615: I tensorflow/stream_executor/cuda/cuda_gpu_executor.cc:937] successful NUMA node read from SysFS had negative value (-1), but there must be at least one NUMA node, so returning NUMA node zero\n",
      "2022-01-05 16:41:56.973154: I tensorflow/core/common_runtime/gpu/gpu_device.cc:1510] Created device /job:localhost/replica:0/task:0/device:GPU:0 with 15403 MB memory:  -> device: 0, name: Tesla P100-PCIE-16GB, pci bus id: 0000:00:04.0, compute capability: 6.0\n",
      "2022-01-05 16:41:57.002601: I tensorflow/core/grappler/optimizers/meta_optimizer.cc:1137] Optimization results for grappler item: graph_to_optimize\n",
      "  function_optimizer: function_optimizer did nothing. time = 0.01ms.\n",
      "  function_optimizer: function_optimizer did nothing. time = 0.005ms.\n",
      "\n",
      "2022-01-05 16:41:58.270687: W tensorflow/compiler/mlir/lite/python/tf_tfl_flatbuffer_helpers.cc:351] Ignored output_format.\n",
      "2022-01-05 16:41:58.270747: W tensorflow/compiler/mlir/lite/python/tf_tfl_flatbuffer_helpers.cc:354] Ignored drop_control_dependency.\n",
      "2022-01-05 16:41:58.325433: I tensorflow/compiler/mlir/tensorflow/utils/dump_mlir_util.cc:210] disabling MLIR crash reproducer, set env var `MLIR_CRASH_REPRODUCER_DIRECTORY` to enable.\n"
     ]
    }
   ],
   "source": [
    "# Convert the model.\n",
    "converter = tf.lite.TFLiteConverter.from_keras_model(veg_mobilenet)\n",
    "tflite_model = converter.convert()\n",
    "\n",
    "# Save the model.\n",
    "with open('veg_mobilenet.tflite', 'wb') as f:\n",
    "    f.write(tflite_model)"
   ]
  },
  {
   "cell_type": "code",
   "execution_count": 12,
   "id": "1cde9381",
   "metadata": {
    "execution": {
     "iopub.execute_input": "2022-01-05T16:42:01.164171Z",
     "iopub.status.busy": "2022-01-05T16:42:01.163107Z",
     "iopub.status.idle": "2022-01-05T16:42:01.629892Z",
     "shell.execute_reply": "2022-01-05T16:42:01.629252Z",
     "shell.execute_reply.started": "2022-01-05T16:16:10.525573Z"
    },
    "papermill": {
     "duration": 1.764825,
     "end_time": "2022-01-05T16:42:01.630062",
     "exception": false,
     "start_time": "2022-01-05T16:41:59.865237",
     "status": "completed"
    },
    "tags": []
   },
   "outputs": [
    {
     "data": {
      "image/png": "[encoded data removed]",
      "text/plain": [
       "<Figure size 432x288 with 1 Axes>"
      ]
     },
     "metadata": {
      "needs_background": "light"
     },
     "output_type": "display_data"
    },
    {
     "data": {
      "image/png": "[encoded data removed]",
      "text/plain": [
       "<Figure size 432x288 with 1 Axes>"
      ]
     },
     "metadata": {
      "needs_background": "light"
     },
     "output_type": "display_data"
    }
   ],
   "source": [
    "acc = fit_generator.history['acc']\n",
    "val_acc = fit_generator.history['val_acc']\n",
    "loss = fit_generator.history['loss']\n",
    "val_loss = fit_generator.history['val_loss']\n",
    "\n",
    "epochs = range(len(acc))\n",
    "plt.plot(epochs, acc, 'b', label='Training acc')\n",
    "plt.plot(epochs, val_acc, 'r', label='Validation acc')\n",
    "plt.title('Training and validation accuracy')\n",
    "plt.legend()\n",
    "plt.figure()\n",
    "\n",
    "plt.plot(epochs, loss, 'b', label='Training loss')\n",
    "plt.plot(epochs, val_loss, 'r', label='Validation loss')\n",
    "plt.title('Training and validation loss')\n",
    "plt.legend()\n",
    "plt.show()"
   ]
  },
  {
   "cell_type": "markdown",
   "id": "0a7b6a38",
   "metadata": {
    "papermill": {
     "duration": 1.636831,
     "end_time": "2022-01-05T16:42:04.558945",
     "exception": false,
     "start_time": "2022-01-05T16:42:02.922114",
     "status": "completed"
    },
    "tags": []
   },
   "source": [
    "## Predict"
   ]
  },
  {
   "cell_type": "code",
   "execution_count": 13,
   "id": "da4cb856",
   "metadata": {
    "execution": {
     "iopub.execute_input": "2022-01-05T16:42:07.165659Z",
     "iopub.status.busy": "2022-01-05T16:42:07.164904Z",
     "iopub.status.idle": "2022-01-05T16:42:11.238242Z",
     "shell.execute_reply": "2022-01-05T16:42:11.237673Z",
     "shell.execute_reply.started": "2022-01-05T16:16:10.913257Z"
    },
    "papermill": {
     "duration": 5.379133,
     "end_time": "2022-01-05T16:42:11.238424",
     "exception": false,
     "start_time": "2022-01-05T16:42:05.859291",
     "status": "completed"
    },
    "tags": []
   },
   "outputs": [
    {
     "name": "stdout",
     "output_type": "stream",
     "text": [
      "281/281 - 4s\n"
     ]
    }
   ],
   "source": [
    "vegs_pred= veg_mobilenet.predict(test_generator, steps = nb_samples_test, verbose=2)\n",
    "vegs_pred= vegs_pred.argmax(axis=1)"
   ]
  },
  {
   "cell_type": "markdown",
   "id": "da0dedf8",
   "metadata": {
    "papermill": {
     "duration": 1.312084,
     "end_time": "2022-01-05T16:42:13.891802",
     "exception": false,
     "start_time": "2022-01-05T16:42:12.579718",
     "status": "completed"
    },
    "tags": []
   },
   "source": [
    "### Classification Report"
   ]
  },
  {
   "cell_type": "code",
   "execution_count": 14,
   "id": "cf6a358f",
   "metadata": {
    "execution": {
     "iopub.execute_input": "2022-01-05T16:42:17.025055Z",
     "iopub.status.busy": "2022-01-05T16:42:17.023949Z",
     "iopub.status.idle": "2022-01-05T16:42:17.039106Z",
     "shell.execute_reply": "2022-01-05T16:42:17.038397Z",
     "shell.execute_reply.started": "2022-01-05T16:16:14.322167Z"
    },
    "papermill": {
     "duration": 1.532885,
     "end_time": "2022-01-05T16:42:17.039293",
     "exception": false,
     "start_time": "2022-01-05T16:42:15.506408",
     "status": "completed"
    },
    "tags": []
   },
   "outputs": [
    {
     "name": "stdout",
     "output_type": "stream",
     "text": [
      "                    precision    recall  f1-score   support\n",
      "\n",
      "              Leek       0.89      1.00      0.94         8\n",
      "      Solid-Potato       1.00      0.82      0.90        11\n",
      "            Ginger       0.91      0.91      0.91        11\n",
      "          Zucchini       0.94      1.00      0.97        17\n",
      "   Red-Bell-Pepper       1.00      1.00      1.00         9\n",
      "      Sweet-Potato       1.00      1.00      1.00        19\n",
      "       Beef-Tomato       1.00      0.75      0.86        12\n",
      "     Floury-Potato       1.00      0.78      0.88         9\n",
      "       Vine-Tomato       0.91      1.00      0.95        10\n",
      "    Regular-Tomato       1.00      0.67      0.80         9\n",
      "Yellow-Bell-Pepper       0.92      1.00      0.96        11\n",
      "      Yellow-Onion       1.00      1.00      1.00        11\n",
      "          Red-Beet       1.00      0.85      0.92        13\n",
      "         Asparagus       1.00      1.00      1.00         8\n",
      "         Aubergine       1.00      1.00      1.00        15\n",
      "           Cabbage       1.00      1.00      1.00        21\n",
      " Green-Bell-Pepper       0.86      1.00      0.92        12\n",
      "Orange-Bell-Pepper       0.87      1.00      0.93        13\n",
      "Brown-Cap-Mushroom       0.95      0.95      0.95        19\n",
      "           Carrots       0.93      1.00      0.96        13\n",
      "          Cucumber       1.00      0.94      0.97        16\n",
      "            Garlic       0.78      1.00      0.88        14\n",
      "\n",
      "          accuracy                           0.95       281\n",
      "         macro avg       0.95      0.94      0.94       281\n",
      "      weighted avg       0.95      0.95      0.95       281\n",
      "\n"
     ]
    }
   ],
   "source": [
    "print(classification_report(true_classes, vegs_pred, target_names=target_names))"
   ]
  }
 ],
 "metadata": {
  "kernelspec": {
   "display_name": "Python 3",
   "language": "python",
   "name": "python3"
  },
  "language_info": {
   "codemirror_mode": {
    "name": "ipython",
    "version": 3
   },
   "file_extension": ".py",
   "mimetype": "text/x-python",
   "name": "python",
   "nbconvert_exporter": "python",
   "pygments_lexer": "ipython3",
   "version": "3.7.12"
  },
  "papermill": {
   "default_parameters": {},
   "duration": 1447.898559,
   "end_time": "2022-01-05T16:42:21.952200",
   "environment_variables": {},
   "exception": null,
   "input_path": "__notebook__.ipynb",
   "output_path": "__notebook__.ipynb",
   "parameters": {},
   "start_time": "2022-01-05T16:18:14.053641",
   "version": "2.3.3"
  }
 },
 "nbformat": 4,
 "nbformat_minor": 5
}
