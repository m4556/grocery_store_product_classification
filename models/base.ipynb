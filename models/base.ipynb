{
 "cells": [
  {
   "cell_type": "markdown",
   "id": "fourth-pavilion",
   "metadata": {},
   "source": [
    "### Import libraries"
   ]
  },
  {
   "cell_type": "code",
   "execution_count": null,
   "id": "threatened-spread",
   "metadata": {},
   "outputs": [],
   "source": [
    "import os\n",
    "os.environ['KMP_DUPLICATE_LIB_OK']='True'\n",
    "import random\n",
    "from glob import glob\n",
    "import numpy as np\n",
    "import matplotlib.pyplot as plt\n",
    "from pylab import imread,subplot,imshow,show\n",
    "from sklearn.metrics import confusion_matrix, classification_report\n",
    "import tensorflow\n",
    "from tensorflow import keras\n",
    "from tensorflow.keras import optimizers, layers, models, callbacks\n",
    "from tensorflow.keras.models import Sequential, Model\n",
    "from tensorflow.keras.layers import GlobalAveragePooling2D, Dense, Conv2D, Flatten, MaxPool2D, Dropout\n",
    "from tensorflow.keras.applications import xception\n",
    "from tensorflow.keras.preprocessing.image import ImageDataGenerator  "
   ]
  },
  {
   "cell_type": "markdown",
   "id": "similar-discovery",
   "metadata": {},
   "source": [
    "### Train, validation and test directories"
   ]
  },
  {
   "cell_type": "code",
   "execution_count": null,
   "id": "retired-tonight",
   "metadata": {},
   "outputs": [],
   "source": [
    "base_dir = 'data/grocery_store_dataset'\n",
    "\n",
    "train_dir =  os.path.join(base_dir, 'train')\n",
    "validation_dir =  os.path.join(base_dir, 'val')\n",
    "test_dir =  os.path.join(base_dir, 'test')\n",
    "\n",
    "print('Total number of training images:', sum(len(files) for _, _, files in os.walk(train_dir)))\n",
    "print('Total number of validation images:', sum(len(files) for _, _, files in os.walk(validation_dir)))\n",
    "print('Total number of test images:', sum(len(files) for _, _, files in os.walk(test_dir)))\n",
    "\n",
    "classes = ['fruit', 'vegetables', 'dairy']"
   ]
  },
  {
   "cell_type": "markdown",
   "id": "palestinian-aaron",
   "metadata": {},
   "source": [
    "### Display dataset images"
   ]
  },
  {
   "cell_type": "code",
   "execution_count": null,
   "id": "retired-treaty",
   "metadata": {},
   "outputs": [],
   "source": [
    "multiple_images = glob('grocery_store_dataset/train/Fruit/Avocado/**')\n",
    "random_samples = random.sample(multiple_images, 3)\n",
    "\n",
    "fig, ax = plt.subplots(3, 1,figsize=(20,20))\n",
    "for i in range(3):\n",
    "    ax[i].imshow(imread(random_samples[i])), plt.axis('off')"
   ]
  },
  {
   "cell_type": "markdown",
   "id": "committed-crowd",
   "metadata": {},
   "source": [
    "### Data preprocessing / augmentation"
   ]
  },
  {
   "cell_type": "code",
   "execution_count": null,
   "id": "beautiful-comment",
   "metadata": {},
   "outputs": [],
   "source": [
    "train_generator = ImageDataGenerator(\n",
    "        rotation_range=40,\n",
    "        width_shift_range=0.2,\n",
    "        height_shift_range=0.2,\n",
    "        fill_mode='nearest',\n",
    "        rescale=1./255,\n",
    "        zoom_range=0.2,\n",
    "        horizontal_flip=True)\n",
    "\n",
    "train_dataset = train_generator.flow_from_directory(\n",
    "        train_dir,\n",
    "        target_size=(224, 224),\n",
    "        batch_size=25,\n",
    "        class_mode='categorical')\n",
    "\n",
    "test_dataset = ImageDataGenerator(rescale=1./255).flow_from_directory(\n",
    "        test_dir,\n",
    "        target_size=(224, 224),\n",
    "        batch_size=1,\n",
    "        shuffle = False,\n",
    "        class_mode='categorical')\n",
    "\n",
    "validation_dataset = ImageDataGenerator(rescale=1./255).flow_from_directory(\n",
    "        validation_dir,\n",
    "        target_size=(224, 224),\n",
    "        batch_size=10,\n",
    "        class_mode='categorical')"
   ]
  },
  {
   "cell_type": "markdown",
   "id": "military-candle",
   "metadata": {},
   "source": [
    "### Model configuration"
   ]
  },
  {
   "cell_type": "code",
   "execution_count": null,
   "id": "refined-experiment",
   "metadata": {
    "scrolled": true
   },
   "outputs": [],
   "source": [
    "model = xception.Xception(weights='imagenet', include_top=False, input_shape=(224, 224, 3),classes=3,pooling='avg')\n",
    "#model.summary()\n",
    "\n",
    "for layer in model.layers:\n",
    "    layer.trainable = False\n",
    "\n",
    "\n",
    "x = model.output\n",
    "x = Dropout(0.2)(x)\n",
    "output=  Dense(3,activation='softmax')(x)\n",
    "model = Model(model.input,output)\n",
    "\n",
    "model.compile(loss='categorical_crossentropy',\n",
    "              optimizer=optimizers.RMSprop(0.0001),\n",
    "              metrics=['accuracy'])"
   ]
  },
  {
   "cell_type": "markdown",
   "id": "jewish-amino",
   "metadata": {},
   "source": [
    "### Model fitting"
   ]
  },
  {
   "cell_type": "code",
   "execution_count": null,
   "id": "e07bbe61",
   "metadata": {},
   "outputs": [],
   "source": [
    "early_stopping = callbacks.EarlyStopping(monitor='val_accuracy', min_delta=0.01, patience= 3, verbose=1)\n",
    "checkpoint = callbacks.ModelCheckpoint(\"./models.h5\", monitor='val_accuracy', verbose=1, save_best_only=True)\n",
    "callbacks=[early_stopping, checkpoint]\n",
    "\n",
    "history = model.fit(train_dataset,\n",
    "                    steps_per_epoch=150,\n",
    "                    epochs=50,\n",
    "                    validation_data=validation_dataset,\n",
    "                    verbose=1,\n",
    "                    callbacks=callbacks)"
   ]
  },
  {
   "cell_type": "markdown",
   "id": "3ad6dae5",
   "metadata": {},
   "source": [
    "### Saving the model"
   ]
  },
  {
   "cell_type": "code",
   "execution_count": null,
   "id": "3a6a5764",
   "metadata": {},
   "outputs": [],
   "source": [
    "model.save('base.h5')"
   ]
  },
  {
   "cell_type": "markdown",
   "id": "eb608e85",
   "metadata": {},
   "source": [
    "### Plotting the results"
   ]
  },
  {
   "cell_type": "code",
   "execution_count": null,
   "id": "rotary-track",
   "metadata": {},
   "outputs": [],
   "source": [
    "plt.figure(figsize=(10, 4))\n",
    "\n",
    "plt.subplot(1, 2, 1)\n",
    "plt.title('Loss')\n",
    "plt.plot(np.arange(0, 1), history.history['loss'], label='train')\n",
    "plt.plot(np.arange(0, 1), history.history['val_loss'], label='val')\n",
    "plt.legend(loc='best')\n",
    "\n",
    "plt.subplot(1, 2, 2)\n",
    "plt.title('Accuracy')\n",
    "plt.plot(np.arange(0, 1), history.history['accuracy'], label='train')\n",
    "plt.plot(np.arange(0, 1), history.history['val_accuracy'], label='val')\n",
    "plt.legend(loc='best')\n",
    "\n",
    "plt.show()"
   ]
  },
  {
   "cell_type": "markdown",
   "id": "black-breakdown",
   "metadata": {},
   "source": [
    "### Prediction"
   ]
  },
  {
   "cell_type": "code",
   "execution_count": null,
   "id": "assigned-overhead",
   "metadata": {},
   "outputs": [],
   "source": [
    "base_pred = model.predict(test_dataset)\n",
    "base_pred = base_pred.argmax(axis=1)\n",
    "\n",
    "print(classification_report(test_dataset.classes, base_pred, target_names=classes))"
   ]
  },
  {
   "cell_type": "code",
   "execution_count": null,
   "id": "departmental-prevention",
   "metadata": {},
   "outputs": [],
   "source": []
  }
 ],
 "metadata": {
  "kernelspec": {
   "display_name": "Python 3",
   "language": "python",
   "name": "python3"
  },
  "language_info": {
   "codemirror_mode": {
    "name": "ipython",
    "version": 3
   },
   "file_extension": ".py",
   "mimetype": "text/x-python",
   "name": "python",
   "nbconvert_exporter": "python",
   "pygments_lexer": "ipython3",
   "version": "3.7.10"
  }
 },
 "nbformat": 4,
 "nbformat_minor": 5
}
